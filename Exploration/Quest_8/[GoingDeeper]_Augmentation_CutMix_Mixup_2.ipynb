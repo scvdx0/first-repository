{
 "cells": [
  {
   "cell_type": "markdown",
   "metadata": {
    "id": "rYNG4CFfR8K0"
   },
   "source": [
    "## **0. 루브릭**"
   ]
  },
  {
   "cell_type": "markdown",
   "metadata": {
    "id": "ICQ6BwLOSCJG"
   },
   "source": [
    "| 평가문항 | 상세기준 |\n",
    "| --- | --- |\n",
    "| 1. CutMix와 MixUp 기법을 ResNet50 분류기에 성공적으로 적용하였는가? | CutMix와 MixUp을 적용한 데이터셋으로 훈련한 각각의 ResNet 모델이 수렴하였다. |\n",
    "| 2. 다양한 실험을 통해 태스크에 최적의 Augmentation 기법을 찾아내었는가? | 각 Augmentation 기법을 적용하고, 그에 따른 성능 비교 분석 및 문제점을 서술하였음 |\n",
    "| 3. 여러가지 Augmentation 기법을 적용한 결과를 체계적으로 비교분석하였는가? | 기본 Augmentation, CutMix, MixUp이 적용된 결과를 시각화와 함께 체계적으로 분석하였다. |"
   ]
  },
  {
   "cell_type": "markdown",
   "metadata": {
    "id": "fn9_fla-SEOg"
   },
   "source": [
    "## **1. 실험하기**"
   ]
  },
  {
   "cell_type": "markdown",
   "metadata": {
    "id": "Ucd6DEfgSHhn"
   },
   "source": [
    "### **1) Augmentation을 적용한 데이터셋 만들기**"
   ]
  },
  {
   "cell_type": "markdown",
   "metadata": {
    "id": "ett9v8FDSOO-"
   },
   "source": [
    "**Q. 아래는 CutMix를 적용할 수 있도록 변경한 apply_normalize_on_dataset()입니다. batch() 함수 뒤에 CutMix가 오도록 만들어야합니다. 그 이유가 뭘까요?**\n",
    "\n",
    "* **배치 단위 적용 필요** : CutMix는 여러 이미지와 라벨을 섞어야 하므로 배치 단위로 처리하는 것이 자연스럽습니다.\n",
    "* **효율성 및 성능 향상** : 배치 단위 처리는 하드웨어 가속기를 최대한 활용할 수 있어 계산적으로 효율적입니다.\n",
    "* **정확한 라벨 생성** : 배치 후에 각 이미지의 라벨을 알고 있어야 라벨도 정확히 섞을 수 있습니다.\n",
    "* **일관된 데이터 증강** : 배치 후에 적용하면 데이터 증강이 일관되고 체계적으로 이루어져 모델 학습에 도움이 됩니다."
   ]
  },
  {
   "cell_type": "code",
   "execution_count": 51,
   "metadata": {
    "id": "ydow6mhB_r9m"
   },
   "outputs": [],
   "source": [
    "# 라이브러리 불러오기\n",
    "import tensorflow as tf\n",
    "from tensorflow import keras\n",
    "import tensorflow_datasets as tfds\n",
    "\n",
    "import pandas as pd\n",
    "import numpy as np\n",
    "import matplotlib.pyplot as plt"
   ]
  },
  {
   "cell_type": "code",
   "execution_count": 52,
   "metadata": {
    "colab": {
     "base_uri": "https://localhost:8080/",
     "height": 213,
     "referenced_widgets": [
      "8117d96d8ada4ca4a4fd10e30dc4ea9e",
      "9e49291a98da4e1999f61b769d78cc57",
      "b7492189e95e418d84d4ff464ddcd327",
      "09d6d04c643043ff841f9d6c63ce1730",
      "d6814f7ce9ca49b68640cf518c0100cd",
      "0fe6d0d4492e496d890808e5e782d382",
      "7555a1d3289446838426f6bc63b2ec4c",
      "e0afe9916a8d43e0be417ef711915f48",
      "addfd60afad1427fa70978f17ac6ebbb",
      "485885ff799e4c11945fed560f1701b0",
      "98f13ef1f8f94d0e802a49888f324ebb",
      "a0fa46b46cc04cbdb172678493974acd",
      "ff51211a0ddb490b8a21c0568be2baaa",
      "9fca04f08d9043e09ffc041e91f85dc3",
      "ed817d4bdc1b465daf454ed1a65565e8",
      "a8f498488d184e06a1c5fb0b7f46e818",
      "403222c67a094bb6a293a211954667ae",
      "0efa537245eb4a6fbd610e65b60f2ae6",
      "3a528f8ebd2947c8a261f672108bb28b",
      "e8da8ee0eaec47cca19826a2eea665f1",
      "8e0da173b82743c9b0ade2712ba683ea",
      "1ab9c473d9b44c698033773e8c1f2a1e",
      "1be72f3563a8481593f3f526b493da02",
      "24bd6bc1d97b410a88f533d5c78a5baa",
      "2c335453fc3c4dc7bc4b4896e3b45603",
      "c8cacec313a4418cbfcb084a7832ae4c",
      "3a199ed17f9941668940e8302ab2156a",
      "3cf6551635fc4a399f84c58bb1bbebe5",
      "5f0a4ff902bc4d8685ccb14380f488e0",
      "e12ec1819d764fcfb0e478294d4d6bf9",
      "245005940bc342abb2e5aa95f2a0a4cb",
      "6fb4646803b6492bb59c6588c37c45ad",
      "6274a2ff8fd54ebf92041f226996fc93",
      "fff1f4830f534f3d8a05c6cd257234f6",
      "3e9f9a728a874dc68f374463bc0e7383",
      "48e3cd191ce84b4f90530b6d0e26d6b8",
      "e40e60f414d9446abea391e84ee47299",
      "dfda60e3b8c74f50acb807535fb53a32",
      "fb0398736e414b408e984ea93b540fc9",
      "9f160601788a486d88d8a33bb08da3e2",
      "784ce89d99394712b040c60095d74317",
      "22264896b8d84c9c9951add92d915ad9",
      "a64b9789186f45b78ca1c2e14ce9b6ea",
      "9d05bcf883704cfda5bbae44a227aa4c",
      "fbafcb8e245240e29d69b4c12c0b522b",
      "b2e56516c440499c80c923803c5018ee",
      "9ea6b8b27e7a4c989e49a44b30b77762",
      "1e92c6e955994d19a2c29a6fb72b156c",
      "a0524b77729e478eaf42508f2a902eac",
      "c60c0bd3c8fa47d4a28aa8246c6261b9",
      "2d3dfad4a0014d04abc91be70806ae37",
      "282339adad3b4a7888c841b372acf819",
      "c6bb959172f5411e8855a2449a83e3fa",
      "9939268b17a5463aa780f3bf998c46b0",
      "999764e252f042e98181073f58863ccb",
      "e9707d33d4904e3eb08fe7598ac9c175",
      "062f847488bd4196a9d1b668c2b5dacb",
      "992a2120204247c2a5bec20facfe37d8",
      "c5dc0756ce7b454a877a78e774d27ba5",
      "f6c3f93c09754329ba48ff900a6340e5",
      "f1fb244595d8425b8a09ad689ce2fcce",
      "1795dadffcd04e9a9b31f15adc03e2cf",
      "6c3e291c6aad4a41a9ea2b2935ac2d85",
      "fee534f2e4e14fc99e9ebd6a090397da",
      "18f39f7215bd42df929f8b2615f0e3d2",
      "a122707c0274457ebcb4fa974779900b",
      "f0f78f20986a49f3a0e2a8abd81f23db",
      "9cb2cbcc1ff649a4880aaf6d844076a4",
      "6e29de7f0e094c5ba61179ae77e0c532",
      "b23886f538124986b677c38ad9fde3be",
      "be31f9100e8040e1b15f0990358abcd0",
      "0e30de3f16a44010a5ef6fdb35470788",
      "51ba8452b8184247bd88ff8cb927374f",
      "8c19084e1e6c4b439e102df1ad3e00d8",
      "6b5c25db31fe4f23a3e53e94a5718e2f",
      "4f1f44bdce4741ba90f0c68a1389afe8",
      "7123446ec65246e0ab67aa10454f5af0",
      "91db969861874c8f9a944c933576f982",
      "18dafe2b331f4a1c964684ff0374bb4b",
      "d0be013256024eed960475121d84c01d",
      "cc582fafa2744732b73cbe0aa0c8f057",
      "ee3c89ecabb54e10816d29e5fbbb66a8",
      "fe7aa50978d94c9b9cf7b32fa12bd99e",
      "5b37b7c7c521430fbe2be28bcd3d1ae1",
      "b539d861c1d043e1a84fe9b2ac1c9d46",
      "2f9185d4685048e5a17cbcf65111c041",
      "ce3069749c7841508328530cf50b3aba",
      "225c044ca41444b1b3a601c49633acab",
      "2f7aa30120194114965841648407cfca",
      "d2fc451a54d44bb4bc0a63c2913670b0",
      "6a2a64876e094e48b0af1fafb6f8ffce",
      "13c745b431504f669b64c5dc049258ba",
      "b367faeb3c0d4275af29d0a256e437fc",
      "688624a699b4440fb198e638897e12af",
      "213e135f294347b48d81a9acfc67ca7b",
      "02181a44af8847fb8835fe3d63f2f90c",
      "6c2673119f4448ca925a97758abe4baa",
      "b1db8fd908f74122863ce1a75f31619a",
      "57c67da84b24485e9f594c714fa3442f",
      "febb108f5cfc4a80bd12558a8a163760",
      "38047e4705404c6d96cf96e1791670f6",
      "1ba3deeeb6e145ad950782f74b3d7218",
      "66f08f71eac0463b93240828b246f27d",
      "9d5c8dd8b45b471ab138acf645752396",
      "a1b25f863086428e8a10201b02e6fb04",
      "66b6749165e44b668c4f3d0768eef576",
      "b3162a817fc54294806eebe015c44e89",
      "ddee4db5d17d4690b1b121389c981aa7",
      "1701345915df4c8ba037519b885a20fa",
      "6a82033738eb4382ba2138e9d225f6ae"
     ]
    },
    "id": "JEhs9QBN_1Jt",
    "outputId": "efd7db52-943d-46a8-9bdf-c8e5b3c056aa"
   },
   "outputs": [],
   "source": [
    "# stanford_dogs 데이터셋 불러오기\n",
    "(ds_train, ds_test), ds_info = tfds.load(\n",
    "    'stanford_dogs',\n",
    "    split=['train', 'test'],\n",
    "    as_supervised=True,\n",
    "    shuffle_files=True,\n",
    "    with_info=True,\n",
    ")"
   ]
  },
  {
   "cell_type": "code",
   "execution_count": 53,
   "metadata": {
    "colab": {
     "base_uri": "https://localhost:8080/"
    },
    "id": "RKxII6jp_3bA",
    "outputId": "6cd64247-2c63-45f8-f9fa-8bcc64af62cb"
   },
   "outputs": [
    {
     "name": "stdout",
     "output_type": "stream",
     "text": [
      "FeaturesDict({\n",
      "    'image': Image(shape=(None, None, 3), dtype=tf.uint8),\n",
      "    'image/filename': Text(shape=(), dtype=tf.string),\n",
      "    'label': ClassLabel(shape=(), dtype=tf.int64, num_classes=120),\n",
      "    'objects': Sequence({\n",
      "        'bbox': BBoxFeature(shape=(4,), dtype=tf.float32),\n",
      "    }),\n",
      "})\n"
     ]
    }
   ],
   "source": [
    "# 데이터 feature 정보 확인하기\n",
    "print(ds_info.features)"
   ]
  },
  {
   "cell_type": "code",
   "execution_count": 54,
   "metadata": {
    "colab": {
     "base_uri": "https://localhost:8080/"
    },
    "id": "5cM7IPGN_5hg",
    "outputId": "844059cd-6aa2-4e2c-e083-461dd3bb659f"
   },
   "outputs": [
    {
     "name": "stdout",
     "output_type": "stream",
     "text": [
      "tf.Tensor(12000, shape=(), dtype=int64)\n",
      "tf.Tensor(8580, shape=(), dtype=int64)\n"
     ]
    }
   ],
   "source": [
    "# 데이터셋 개수 확인하기\n",
    "print(tf.data.experimental.cardinality(ds_train))    # 훈련 데이터셋\n",
    "print(tf.data.experimental.cardinality(ds_test))     # 테스트 데이터셋"
   ]
  },
  {
   "cell_type": "code",
   "execution_count": 55,
   "metadata": {
    "colab": {
     "base_uri": "https://localhost:8080/"
    },
    "id": "bW8jw5Jl__Zi",
    "outputId": "549d5f21-56ca-45fc-d623-39316c371441"
   },
   "outputs": [
    {
     "data": {
      "text/plain": [
       "120"
      ]
     },
     "execution_count": 55,
     "metadata": {},
     "output_type": "execute_result"
    }
   ],
   "source": [
    "# 데이터셋 클래스 개수 및 구성 확인하기\n",
    "num_classes = ds_info.features[\"label\"].num_classes\n",
    "num_classes"
   ]
  },
  {
   "cell_type": "code",
   "execution_count": 56,
   "metadata": {
    "colab": {
     "base_uri": "https://localhost:8080/"
    },
    "id": "16mn6ERVAFI9",
    "outputId": "a1bc35e2-f112-48ff-d823-96163ca91d56"
   },
   "outputs": [
    {
     "data": {
      "text/plain": [
       "['n02085620-chihuahua',\n",
       " 'n02085782-japanese_spaniel',\n",
       " 'n02085936-maltese_dog',\n",
       " 'n02086079-pekinese',\n",
       " 'n02086240-shih-tzu',\n",
       " 'n02086646-blenheim_spaniel',\n",
       " 'n02086910-papillon',\n",
       " 'n02087046-toy_terrier',\n",
       " 'n02087394-rhodesian_ridgeback',\n",
       " 'n02088094-afghan_hound',\n",
       " 'n02088238-basset',\n",
       " 'n02088364-beagle',\n",
       " 'n02088466-bloodhound',\n",
       " 'n02088632-bluetick',\n",
       " 'n02089078-black-and-tan_coonhound',\n",
       " 'n02089867-walker_hound',\n",
       " 'n02089973-english_foxhound',\n",
       " 'n02090379-redbone',\n",
       " 'n02090622-borzoi',\n",
       " 'n02090721-irish_wolfhound',\n",
       " 'n02091032-italian_greyhound',\n",
       " 'n02091134-whippet',\n",
       " 'n02091244-ibizan_hound',\n",
       " 'n02091467-norwegian_elkhound',\n",
       " 'n02091635-otterhound',\n",
       " 'n02091831-saluki',\n",
       " 'n02092002-scottish_deerhound',\n",
       " 'n02092339-weimaraner',\n",
       " 'n02093256-staffordshire_bullterrier',\n",
       " 'n02093428-american_staffordshire_terrier',\n",
       " 'n02093647-bedlington_terrier',\n",
       " 'n02093754-border_terrier',\n",
       " 'n02093859-kerry_blue_terrier',\n",
       " 'n02093991-irish_terrier',\n",
       " 'n02094114-norfolk_terrier',\n",
       " 'n02094258-norwich_terrier',\n",
       " 'n02094433-yorkshire_terrier',\n",
       " 'n02095314-wire-haired_fox_terrier',\n",
       " 'n02095570-lakeland_terrier',\n",
       " 'n02095889-sealyham_terrier',\n",
       " 'n02096051-airedale',\n",
       " 'n02096177-cairn',\n",
       " 'n02096294-australian_terrier',\n",
       " 'n02096437-dandie_dinmont',\n",
       " 'n02096585-boston_bull',\n",
       " 'n02097047-miniature_schnauzer',\n",
       " 'n02097130-giant_schnauzer',\n",
       " 'n02097209-standard_schnauzer',\n",
       " 'n02097298-scotch_terrier',\n",
       " 'n02097474-tibetan_terrier',\n",
       " 'n02097658-silky_terrier',\n",
       " 'n02098105-soft-coated_wheaten_terrier',\n",
       " 'n02098286-west_highland_white_terrier',\n",
       " 'n02098413-lhasa',\n",
       " 'n02099267-flat-coated_retriever',\n",
       " 'n02099429-curly-coated_retriever',\n",
       " 'n02099601-golden_retriever',\n",
       " 'n02099712-labrador_retriever',\n",
       " 'n02099849-chesapeake_bay_retriever',\n",
       " 'n02100236-german_short-haired_pointer',\n",
       " 'n02100583-vizsla',\n",
       " 'n02100735-english_setter',\n",
       " 'n02100877-irish_setter',\n",
       " 'n02101006-gordon_setter',\n",
       " 'n02101388-brittany_spaniel',\n",
       " 'n02101556-clumber',\n",
       " 'n02102040-english_springer',\n",
       " 'n02102177-welsh_springer_spaniel',\n",
       " 'n02102318-cocker_spaniel',\n",
       " 'n02102480-sussex_spaniel',\n",
       " 'n02102973-irish_water_spaniel',\n",
       " 'n02104029-kuvasz',\n",
       " 'n02104365-schipperke',\n",
       " 'n02105056-groenendael',\n",
       " 'n02105162-malinois',\n",
       " 'n02105251-briard',\n",
       " 'n02105412-kelpie',\n",
       " 'n02105505-komondor',\n",
       " 'n02105641-old_english_sheepdog',\n",
       " 'n02105855-shetland_sheepdog',\n",
       " 'n02106030-collie',\n",
       " 'n02106166-border_collie',\n",
       " 'n02106382-bouvier_des_flandres',\n",
       " 'n02106550-rottweiler',\n",
       " 'n02106662-german_shepherd',\n",
       " 'n02107142-doberman',\n",
       " 'n02107312-miniature_pinscher',\n",
       " 'n02107574-greater_swiss_mountain_dog',\n",
       " 'n02107683-bernese_mountain_dog',\n",
       " 'n02107908-appenzeller',\n",
       " 'n02108000-entlebucher',\n",
       " 'n02108089-boxer',\n",
       " 'n02108422-bull_mastiff',\n",
       " 'n02108551-tibetan_mastiff',\n",
       " 'n02108915-french_bulldog',\n",
       " 'n02109047-great_dane',\n",
       " 'n02109525-saint_bernard',\n",
       " 'n02109961-eskimo_dog',\n",
       " 'n02110063-malamute',\n",
       " 'n02110185-siberian_husky',\n",
       " 'n02110627-affenpinscher',\n",
       " 'n02110806-basenji',\n",
       " 'n02110958-pug',\n",
       " 'n02111129-leonberg',\n",
       " 'n02111277-newfoundland',\n",
       " 'n02111500-great_pyrenees',\n",
       " 'n02111889-samoyed',\n",
       " 'n02112018-pomeranian',\n",
       " 'n02112137-chow',\n",
       " 'n02112350-keeshond',\n",
       " 'n02112706-brabancon_griffon',\n",
       " 'n02113023-pembroke',\n",
       " 'n02113186-cardigan',\n",
       " 'n02113624-toy_poodle',\n",
       " 'n02113712-miniature_poodle',\n",
       " 'n02113799-standard_poodle',\n",
       " 'n02113978-mexican_hairless',\n",
       " 'n02115641-dingo',\n",
       " 'n02115913-dhole',\n",
       " 'n02116738-african_hunting_dog']"
      ]
     },
     "execution_count": 56,
     "metadata": {},
     "output_type": "execute_result"
    }
   ],
   "source": [
    "# 데이터셋 구성 확인하기\n",
    "ds_info.features[\"label\"].names"
   ]
  },
  {
   "cell_type": "code",
   "execution_count": 57,
   "metadata": {
    "colab": {
     "base_uri": "https://localhost:8080/",
     "height": 728
    },
    "id": "fsDWtu7wAohJ",
    "outputId": "96f24424-34e3-4937-9ca9-384c98127bc8"
   },
   "outputs": [
    {
     "data": {
      "image/png": "[encoded data removed]",
      "text/plain": [
       "<Figure size 648x648 with 9 Axes>"
      ]
     },
     "metadata": {},
     "output_type": "display_data"
    }
   ],
   "source": [
    "# 학습용 데이터셋 확인하기\n",
    "fig = tfds.show_examples(ds_train, ds_info)"
   ]
  },
  {
   "cell_type": "code",
   "execution_count": 58,
   "metadata": {
    "colab": {
     "base_uri": "https://localhost:8080/",
     "height": 749
    },
    "id": "qPXhSlwwAtcV",
    "outputId": "b3740034-2287-45c5-a0a0-631c7e7f2faa"
   },
   "outputs": [
    {
     "data": {
      "image/png": "[encoded data removed]",
      "text/plain": [
       "<Figure size 648x648 with 9 Axes>"
      ]
     },
     "metadata": {},
     "output_type": "display_data"
    }
   ],
   "source": [
    "# 테스트용 데이터셋 확인하기\n",
    "fig = tfds.show_examples(ds_test, ds_info)"
   ]
  },
  {
   "cell_type": "code",
   "execution_count": 59,
   "metadata": {
    "id": "Nzjzi2ahAwbR"
   },
   "outputs": [],
   "source": [
    "# 기본적인 전처리 함수 정의하기\n",
    "def normalize_and_resize_img(image, label):\n",
    "    # 이미지를 정규화하고 크기를 조정하기: `uint8` -> `float32`\n",
    "\n",
    "    # 이미지를 224x224 크기로 조정하기\n",
    "    image = tf.image.resize(image, [224, 224])\n",
    "    # 이미지를 float32 타입으로 변환하고 255로 나누어 정규화하기\n",
    "    return tf.cast(image, tf.float32) / 255., label"
   ]
  },
  {
   "cell_type": "code",
   "execution_count": 60,
   "metadata": {
    "id": "vqX9dnibA5TV"
   },
   "outputs": [],
   "source": [
    "# augmentation 함수 정의하기\n",
    "def augment(image, label):\n",
    "    # 이미지를 무작위로 좌우 반전하고 밝기를 조정하기\n",
    "    # 이미지를 무작위로 좌우 반전하기\n",
    "    image = tf.image.random_flip_left_right(image)\n",
    "    # 이미지를 무작위로 밝기 조정하기 (최대 0.2 범위 내에서)\n",
    "    image = tf.image.random_brightness(image, max_delta=0.2)\n",
    "    # 이미지의 값을 0과 1 사이로 클리핑하기\n",
    "    image = tf.clip_by_value(image, 0, 1)\n",
    "    return image, label"
   ]
  },
  {
   "cell_type": "code",
   "execution_count": 61,
   "metadata": {
    "id": "PZ5ilsk1DfZi"
   },
   "outputs": [],
   "source": [
    "# 원-핫 인코딩하기\n",
    "def onehot(image, label):\n",
    "    # 레이블을 원-핫 인코딩하기\n",
    "    label = tf.one_hot(label, num_classes)\n",
    "    return image, label"
   ]
  },
  {
   "cell_type": "code",
   "execution_count": 62,
   "metadata": {
    "id": "KKc-rOI9Dfhs"
   },
   "outputs": [],
   "source": [
    "# 데이터셋(ds)을 가공하는 메인함수 구현하기\n",
    "def apply_normalize_on_dataset(ds, is_test=False, batch_size=16,\n",
    "                               with_aug=False, with_cutmix=False):\n",
    "    # 데이터셋에 정규화와 선택적 증강을 적용하기\n",
    "    ds = ds.map(\n",
    "        normalize_and_resize_img,\n",
    "        num_parallel_calls=2  # 병렬 처리로 속도 향상하기\n",
    "    )\n",
    "    if not is_test and with_aug:\n",
    "        # 학습 데이터셋에 증강을 적용하기\n",
    "        ds = ds.map(\n",
    "            augment\n",
    "        )\n",
    "    ds = ds.batch(batch_size)  # 배치 크기로 묶기\n",
    "    if not is_test and with_cutmix:\n",
    "        # CutMix를 적용할 경우 해당 함수를 사용하기\n",
    "        ds = ds.map(\n",
    "            cutmix,\n",
    "            num_parallel_calls=2  # 병렬 처리로 속도 향상하기\n",
    "        )\n",
    "    else:\n",
    "        # 그렇지 않으면 원-핫 인코딩 적용하기\n",
    "        ds = ds.map(\n",
    "            onehot,\n",
    "            num_parallel_calls=2  # 병렬 처리로 속도 향상시키기\n",
    "        )\n",
    "    if not is_test:\n",
    "        # 학습 데이터셋인 경우 반복 및 셔플 적용하기\n",
    "        ds = ds.repeat()  # 무한 반복하기\n",
    "        ds = ds.shuffle(200)  # 200개 버퍼 크기로 셔플하기\n",
    "\n",
    "    # 자동으로 적절한 프리페치 크기 설정하기\n",
    "    ds = ds.prefetch(tf.data.experimental.AUTOTUNE)\n",
    "    return ds"
   ]
  },
  {
   "cell_type": "code",
   "execution_count": 63,
   "metadata": {
    "id": "VKKD0USCG90H"
   },
   "outputs": [],
   "source": [
    "# augmentation을 적용하지 않은 학습 데이터셋을 만들기\n",
    "ds_train_no_aug = apply_normalize_on_dataset(ds_train, with_aug=False)"
   ]
  },
  {
   "cell_type": "code",
   "execution_count": 64,
   "metadata": {
    "id": "eJOiKEjYG92d"
   },
   "outputs": [],
   "source": [
    "# augmentation을 적용한 학습 데이터셋을 만들기\n",
    "ds_train_aug = apply_normalize_on_dataset(ds_train, with_aug=True)"
   ]
  },
  {
   "cell_type": "code",
   "execution_count": 65,
   "metadata": {
    "id": "G-NhIRC7G-GE"
   },
   "outputs": [],
   "source": [
    "# 테스트 데이터셋을 만들기\n",
    "# 테스트 데이터셋에는 augmentation을 적용하지 않기\n",
    "ds_test = apply_normalize_on_dataset(ds_test, is_test=True)"
   ]
  },
  {
   "cell_type": "markdown",
   "metadata": {
    "id": "H9kH__acSdVQ"
   },
   "source": [
    "### **2) 모델 만들기**"
   ]
  },
  {
   "cell_type": "markdown",
   "metadata": {
    "id": "5_LkDBAsSgUJ"
   },
   "source": [
    "비교 실험을 위한 모델을 만들어봅시다.\n",
    "\n",
    "* No Augmentation 모델\n",
    "* Augmentation 모델\n",
    "* Augmentation + CutMix 모델\n",
    "* Augmentation + MixUp 모델"
   ]
  },
  {
   "cell_type": "markdown",
   "metadata": {
    "id": "yflfBvEUA-Rs"
   },
   "source": [
    "**cutmix 적용 함수 만들기**"
   ]
  },
  {
   "cell_type": "code",
   "execution_count": 66,
   "metadata": {
    "id": "nz9_z344A8mt"
   },
   "outputs": [],
   "source": [
    "# bounding box 구현하는 함수 만들기\n",
    "# 첫 번째 이미지 a를 바탕 이미지로 하고 거기에 삽입할 두 번째 이미지 b가 있을 때,\n",
    "# a에 삽입될 영역의 바운딩 박스의 위치를 결정하는 함수를 먼저 구현해보기\n",
    "def get_clip_box(image_a, image_b):\n",
    "    # image.shape = (height, width, channel)\n",
    "    image_size_x = image_a.shape[1]  # 기본 이미지의 너비를 가져오기\n",
    "    image_size_y = image_a.shape[0]  # 기본 이미지의 높이를 가져오기\n",
    "\n",
    "    # 기본 이미지 내에서 무작위로 바운딩 박스의 중심을 설정하기\n",
    "    x = tf.cast(tf.random.uniform([], 0, image_size_x), tf.int32)  # 중심의 무작위 x 좌표\n",
    "    y = tf.cast(tf.random.uniform([], 0, image_size_y), tf.int32)  # 중심의 무작위 y 좌표\n",
    "\n",
    "    # 무작위 스케일링 요소를 기반으로 바운딩 박스의 너비와 높이를 결정함\n",
    "    width = tf.cast(image_size_x * tf.math.sqrt(1 - tf.random.uniform([], 0, 1)), tf.int32)  # 무작위 너비\n",
    "    height = tf.cast(image_size_y * tf.math.sqrt(1 - tf.random.uniform([], 0, 1)), tf.int32)  # 무작위 높이\n",
    "\n",
    "    # 바운딩 박스의 최소 및 최대 좌표를 계산하여 이미지 경계 내에 있도록 함.\n",
    "    x_min = tf.math.maximum(0, x - width // 2)  # x_min이 0보다 작지 않도록 하기\n",
    "    y_min = tf.math.maximum(0, y - height // 2)  # y_min이 0보다 작지 않도록 합하기\n",
    "    x_max = tf.math.minimum(image_size_x, x + width // 2)  # x_max가 이미지 너비를 초과하지 않도록 하기\n",
    "    y_max = tf.math.minimum(image_size_y, y + height // 2)  # y_max가 이미지 높이를 초과하지 않도록 하기\n",
    "\n",
    "    return x_min, y_min, x_max, y_max  # 바운딩 박스의 좌표를 반환하기"
   ]
  },
  {
   "cell_type": "code",
   "execution_count": 67,
   "metadata": {
    "id": "JpPG1jztBhWz"
   },
   "outputs": [],
   "source": [
    "# image_a에서 바운딩 박스 바깥쪽 영역을 가져오기\n",
    "# image_b에서 바운딩 박스 안쪽 영역을 가져오기\n",
    "# 둘의 이미지를 섞는 함수 구현하기\n",
    "def mix_2_images(image_a, image_b, x_min, y_min, x_max, y_max):\n",
    "    image_size_x = image_a.shape[1]  # 기본 이미지의 너비를 가져오기\n",
    "    image_size_y = image_a.shape[0]  # 기본 이미지의 높이를 가져오기\n",
    "\n",
    "    # image_b의 왼쪽 바깥 영역\n",
    "    middle_left = image_a[y_min:y_max, 0:x_min, :]\n",
    "\n",
    "    # image_b의 안쪽 영역\n",
    "    middle_center = image_b[y_min:y_max, x_min:x_max, :]\n",
    "\n",
    "    # image_b의 오른쪽 바깥 영역\n",
    "    middle_right = image_a[y_min:y_max, x_max:image_size_x, :]\n",
    "\n",
    "    # 위의 세 영역을 수평으로 결합하기\n",
    "    middle = tf.concat([middle_left, middle_center, middle_right], axis=1)\n",
    "\n",
    "    # 바운딩 박스 위쪽 영역\n",
    "    top = image_a[0:y_min, :, :]\n",
    "\n",
    "    # 바운딩 박스 아래쪽 영역\n",
    "    bottom = image_a[y_max:image_size_y, :, :]\n",
    "\n",
    "    # 위, 중간, 아래 영역을 수직으로 결합하여 최종 이미지를 생성하기\n",
    "    mixed_img = tf.concat([top, middle, bottom], axis=0)\n",
    "\n",
    "    return mixed_img  # 결합된 이미지를 반환하기"
   ]
  },
  {
   "cell_type": "code",
   "execution_count": 68,
   "metadata": {
    "id": "Ru1cz-NQCGf2"
   },
   "outputs": [],
   "source": [
    "# 위에서 섞인 이미지 두 가지에 대하여 라벨을 만들 때\n",
    "# 적절한 비율로 라벨을 합쳐주는 함수를 구현하기\n",
    "def mix_2_labels(image_a, label_a, label_b, x_min, y_min, x_max, y_max, num_classes=num_classes):\n",
    "    image_size_x = image_a.shape[1]  # 기본 이미지의 너비를 가져오기\n",
    "    image_size_y = image_a.shape[0]  # 기본 이미지의 높이를 가져오기\n",
    "\n",
    "    # 바운딩 박스 영역의 크기와 전체 이미지 영역의 크기를 계산하기\n",
    "    mixed_area = (x_max - x_min) * (y_max - y_min)\n",
    "    total_area = image_size_x * image_size_y\n",
    "\n",
    "    # 바운딩 박스 영역이 전체 이미지에서 차지하는 비율을 계산하기\n",
    "    ratio = tf.cast(mixed_area / total_area, tf.float32)\n",
    "\n",
    "    # 레이블이 정수형일 경우 원-핫 인코딩으로 변환하기\n",
    "    if len(label_a.shape) == 0:\n",
    "        label_a = tf.one_hot(label_a, num_classes)\n",
    "    if len(label_b.shape) == 0:\n",
    "        label_b = tf.one_hot(label_b, num_classes)\n",
    "\n",
    "    # 두 레이블을 비율에 따라 섞기\n",
    "    mixed_label = (1 - ratio) * label_a + ratio * label_b\n",
    "\n",
    "    return mixed_label  # 혼합된 레이블을 반환하기"
   ]
  },
  {
   "cell_type": "code",
   "execution_count": 69,
   "metadata": {
    "id": "dMcpwoIrChFK"
   },
   "outputs": [],
   "source": [
    "# mix_2_images()와 mix_2_label()을 활용하기\n",
    "# cutmix 함수 구현하기\n",
    "def cutmix(image, label, prob=1.0, batch_size=16, img_size=224, num_classes=120):\n",
    "    mixed_imgs = []\n",
    "    mixed_labels = []\n",
    "\n",
    "    for i in range(batch_size):\n",
    "        image_a = image[i]\n",
    "        label_a = label[i]\n",
    "\n",
    "        # 무작위로 다른 이미지와 레이블을 선택하기\n",
    "        j = tf.cast(tf.random.uniform([], 0, batch_size), tf.int32)\n",
    "        image_b = image[j]\n",
    "        label_b = label[j]\n",
    "\n",
    "        # 바운딩 박스 좌표를 얻기\n",
    "        x_min, y_min, x_max, y_max = get_clip_box(image_a, image_b)\n",
    "\n",
    "        # 이미지를 혼합하기\n",
    "        mixed_img = mix_2_images(image_a, image_b, x_min, y_min, x_max, y_max)\n",
    "        mixed_imgs.append(mixed_img)\n",
    "\n",
    "        # 레이블을 혼합하기\n",
    "        mixed_label = mix_2_labels(image_a, label_a, label_b, x_min, y_min, x_max, y_max, num_classes)\n",
    "        mixed_labels.append(mixed_label)\n",
    "\n",
    "    # 혼합된 이미지와 레이블을 텐서로 변환하고 형태 바꾸기\n",
    "    mixed_imgs = tf.reshape(tf.stack(mixed_imgs), (batch_size, img_size, img_size, 3))\n",
    "    mixed_labels = tf.reshape(tf.stack(mixed_labels), (batch_size, num_classes))\n",
    "\n",
    "    return mixed_imgs, mixed_labels  # 혼합된 이미지와 레이블을 반환하기"
   ]
  },
  {
   "cell_type": "markdown",
   "metadata": {
    "id": "HXKRxJPZCzL5"
   },
   "source": [
    "**mixup 적용 함수 구현하기**"
   ]
  },
  {
   "cell_type": "code",
   "execution_count": 70,
   "metadata": {
    "id": "kC7Ik51KCxJe"
   },
   "outputs": [],
   "source": [
    "# 두 이미지를 mixup 하는 함수 구현하기\n",
    "def mixup_2_images(image_a, image_b, label_a, label_b, num_classes=120):\n",
    "    # 이미지와 레이블을 혼합할 비율을 무작위로 설정하기\n",
    "    ratio = tf.random.uniform([], 0, 1)\n",
    "\n",
    "    # 레이블이 정수형일 경우 원-핫 인코딩으로 변환하기\n",
    "    if len(label_a.shape) == 0:\n",
    "        label_a = tf.one_hot(label_a, num_classes)\n",
    "    if len(label_b.shape) == 0:\n",
    "        label_b = tf.one_hot(label_b, num_classes)\n",
    "\n",
    "    # 두 이미지를 비율에 따라 혼합하기\n",
    "    mixed_image = (1 - ratio) * image_a + ratio * image_b\n",
    "\n",
    "    # 두 레이블을 비율에 따라 혼합하기\n",
    "    mixed_label = (1 - ratio) * label_a + ratio * label_b\n",
    "\n",
    "    return mixed_image, mixed_label  # 혼합된 이미지와 레이블을 반환하기"
   ]
  },
  {
   "cell_type": "code",
   "execution_count": 71,
   "metadata": {
    "id": "3S6uPLkaDDGX"
   },
   "outputs": [],
   "source": [
    "# 두 이미지 쌍을 섞을 비율은 일정한 범위 내에서 랜덤하게 뽑고\n",
    "# 해당 비율 값에 따라 두 이미지의 픽셀별 값과 라벨을 섞어주면 되는 함수 구현하기\n",
    "# Mixup 함수 구현하기\n",
    "def mixup(image, label, prob=1.0, batch_size=16, img_size=224, num_classes=num_classes):\n",
    "    mixed_imgs = []\n",
    "    mixed_labels = []\n",
    "\n",
    "    for i in range(batch_size):\n",
    "        image_a = image[i]\n",
    "        label_a = label[i]\n",
    "\n",
    "        # 무작위로 다른 이미지와 레이블을 선택하기\n",
    "        j = tf.cast(tf.random.uniform([], 0, batch_size), tf.int32)\n",
    "        image_b = image[j]\n",
    "        label_b = label[j]\n",
    "\n",
    "        # 이미지를 혼합하기\n",
    "        mixed_img, mixed_label = mixup_2_images(image_a, image_b, label_a, label_b, num_classes)\n",
    "        mixed_imgs.append(mixed_img)\n",
    "        mixed_labels.append(mixed_label)\n",
    "\n",
    "    # 혼합된 이미지와 레이블을 텐서로 변환하고 형태 변환하기\n",
    "    mixed_imgs = tf.reshape(tf.stack(mixed_imgs), (batch_size, img_size, img_size, 3))\n",
    "    mixed_labels = tf.reshape(tf.stack(mixed_labels), (batch_size, num_classes))\n",
    "\n",
    "    return mixed_imgs, mixed_labels  # 혼합된 이미지와 레이블을 반환하기"
   ]
  },
  {
   "cell_type": "markdown",
   "metadata": {
    "id": "_f7IUYIBS2x4"
   },
   "source": [
    "모델은 **ResNet-50**을 사용하며, 함수 형태로 만들어 사용합니다."
   ]
  },
  {
   "cell_type": "code",
   "execution_count": 72,
   "metadata": {
    "id": "gOhS18XTIiHE"
   },
   "outputs": [],
   "source": [
    "# ResNet50 생성함수 적용하기\n",
    "def create_ResNet50(include_top=False,         # 최상위 분류 레이어를 포함하지 않기\n",
    "                    weights='imagenet',        # ImageNet 데이터셋으로 학습된 가중치를 사용하기\n",
    "                    input_shape=(224,224,3),   # 입력 이미지의 크기 설정하기\n",
    "                    pooling='avg',             # Global average pooling을 사용하기\n",
    "                    num_classes=num_classes,\n",
    "                    activation='softmax'):    # softmax 활성화 함수를 사용하기\n",
    "\n",
    "    resnet50 = keras.models.Sequential([\n",
    "        keras.applications.resnet.ResNet50(\n",
    "            include_top=include_top,\n",
    "            weights=weights,\n",
    "            input_shape=input_shape,\n",
    "            pooling=pooling,\n",
    "        ),\n",
    "        # 출력 레이어를 추가하기\n",
    "        # 클래스 수만큼 유닛을 가지기\n",
    "        keras.layers.Dense(num_classes, activation=activation)\n",
    "    ])\n",
    "    return resnet50"
   ]
  },
  {
   "cell_type": "markdown",
   "metadata": {
    "id": "n09ovQgCS-ct"
   },
   "source": [
    "**No Augmentation 모델 구현하기**"
   ]
  },
  {
   "cell_type": "code",
   "execution_count": 73,
   "metadata": {
    "colab": {
     "base_uri": "https://localhost:8080/"
    },
    "id": "WhyIzuLIJLKb",
    "outputId": "71040064-3ac9-463f-c47c-726ddd36142e"
   },
   "outputs": [
    {
     "name": "stdout",
     "output_type": "stream",
     "text": [
      "Downloading data from https://storage.googleapis.com/tensorflow/keras-applications/resnet/resnet50_weights_tf_dim_ordering_tf_kernels_notop.h5\n",
      "94773248/94765736 [==============================] - 0s 0us/step\n",
      "94781440/94765736 [==============================] - 0s 0us/step\n"
     ]
    }
   ],
   "source": [
    "# ds_train_no_aug으로 학습시킬 ResNet50 만들기\n",
    "resnet50_no_aug = create_ResNet50()"
   ]
  },
  {
   "cell_type": "markdown",
   "metadata": {
    "id": "O-LaqoQeTDmt"
   },
   "source": [
    "**Augmentation 모델 구현하기**"
   ]
  },
  {
   "cell_type": "code",
   "execution_count": 74,
   "metadata": {
    "id": "OTSCgFikJRIB"
   },
   "outputs": [],
   "source": [
    "# ds_train_aug으로 학습시킬 ResNet50 만들기\n",
    "resnet50_aug = create_ResNet50()"
   ]
  },
  {
   "cell_type": "markdown",
   "metadata": {
    "id": "-zbTwLeXTWjM"
   },
   "source": [
    "**Augmentation + CutMix 모델 구현하기**"
   ]
  },
  {
   "cell_type": "code",
   "execution_count": 75,
   "metadata": {
    "id": "hj0Q2uPzJUXi"
   },
   "outputs": [],
   "source": [
    "# ds_train_aug_cutmix으로 학습시킬 ResNet50 만들기\n",
    "resnet50_aug_cutmix = create_ResNet50()"
   ]
  },
  {
   "cell_type": "markdown",
   "metadata": {
    "id": "SlR4fbaYTbQG"
   },
   "source": [
    "**Augmentation + MixUp 모델 구현하기**"
   ]
  },
  {
   "cell_type": "code",
   "execution_count": 76,
   "metadata": {
    "id": "BmzwZszjJUh1"
   },
   "outputs": [],
   "source": [
    "# ds_train_aug_mixup으로 학습시킬 ResNet50 만들기\n",
    "resnet50_aug_mixup = create_ResNet50()"
   ]
  },
  {
   "cell_type": "markdown",
   "metadata": {
    "id": "XeMpOChATivJ"
   },
   "source": [
    "## **3) 모델 훈련하기**"
   ]
  },
  {
   "cell_type": "markdown",
   "metadata": {
    "id": "cI5wHr1aTmEg"
   },
   "source": [
    "모델을 훈련시켜 봅시다."
   ]
  },
  {
   "cell_type": "markdown",
   "metadata": {
    "id": "jzpl1Rr0UWIV"
   },
   "source": [
    "| 요소           | 선택 사항                        | 이유                                                        |\n",
    "|----------------|---------------------------------|-------------------------------------------------------------|\n",
    "| 옵티마이저     | SGD (Stochastic Gradient Descent)| 학습 안정성, 과적합 방지, 모멘텀과 함께 사용 가능            |\n",
    "| 손실 함수      | categorical_crossentropy         | 다중 클래스 분류, 확률 분포 비교, 로그 손실 적용              |\n",
    "| 평가지표       | accuracy                         | 직관적 이해, 간단하고 명확, 성능 비교에 유용                   |\n"
   ]
  },
  {
   "cell_type": "code",
   "execution_count": 77,
   "metadata": {
    "id": "ZrRYNlnzHdvH"
   },
   "outputs": [],
   "source": [
    "# epochs 수 설정하기\n",
    "EPOCHS = 20"
   ]
  },
  {
   "cell_type": "markdown",
   "metadata": {
    "id": "jo_yIks9ZZPH"
   },
   "source": [
    "**No Augmentation 모델 훈련하기**"
   ]
  },
  {
   "cell_type": "code",
   "execution_count": 78,
   "metadata": {
    "id": "hDBKA-U9Hszp"
   },
   "outputs": [],
   "source": [
    "# No Augmentation 컴파일하기\n",
    "resnet50_no_aug.compile(\n",
    "    # SGD 옵티마이저 사용하기\n",
    "    optimizer='sgd',\n",
    "    # 손실 함수로 categorical_crossentropy 사용하기\n",
    "    loss='categorical_crossentropy',\n",
    "    # 모델의 성능을 평가할 지표로 accuracy 사용하기\n",
    "    metrics=['accuracy']\n",
    ")"
   ]
  },
  {
   "cell_type": "code",
   "execution_count": 79,
   "metadata": {
    "colab": {
     "base_uri": "https://localhost:8080/"
    },
    "id": "tWSEzvkaHwTO",
    "outputId": "a25f40fd-cd3b-42a8-9c72-cdda0d885de5"
   },
   "outputs": [
    {
     "name": "stdout",
     "output_type": "stream",
     "text": [
      "Epoch 1/20\n",
      "750/750 [==============================] - 202s 200ms/step - loss: 2.2304 - accuracy: 0.4483 - val_loss: 3.2440 - val_accuracy: 0.2366\n",
      "Epoch 2/20\n",
      "750/750 [==============================] - 154s 205ms/step - loss: 0.7031 - accuracy: 0.8082 - val_loss: 1.0948 - val_accuracy: 0.6789\n",
      "Epoch 3/20\n",
      "750/750 [==============================] - 155s 207ms/step - loss: 0.2191 - accuracy: 0.9550 - val_loss: 0.9453 - val_accuracy: 0.7235\n",
      "Epoch 4/20\n",
      "750/750 [==============================] - 155s 207ms/step - loss: 0.0656 - accuracy: 0.9936 - val_loss: 0.9194 - val_accuracy: 0.7360\n",
      "Epoch 5/20\n",
      "750/750 [==============================] - 170s 227ms/step - loss: 0.0283 - accuracy: 0.9989 - val_loss: 0.9250 - val_accuracy: 0.7422\n",
      "Epoch 6/20\n",
      "750/750 [==============================] - 155s 207ms/step - loss: 0.0179 - accuracy: 0.9996 - val_loss: 0.9308 - val_accuracy: 0.7429\n",
      "Epoch 7/20\n",
      "750/750 [==============================] - 155s 207ms/step - loss: 0.0133 - accuracy: 0.9998 - val_loss: 0.9389 - val_accuracy: 0.7438\n",
      "Epoch 8/20\n",
      "750/750 [==============================] - 157s 209ms/step - loss: 0.0104 - accuracy: 0.9998 - val_loss: 0.9700 - val_accuracy: 0.7379\n",
      "Epoch 9/20\n",
      "750/750 [==============================] - 155s 207ms/step - loss: 0.0090 - accuracy: 0.9998 - val_loss: 0.9627 - val_accuracy: 0.7399\n",
      "Epoch 10/20\n",
      "750/750 [==============================] - 155s 207ms/step - loss: 0.0080 - accuracy: 0.9998 - val_loss: 0.9735 - val_accuracy: 0.7383\n",
      "Epoch 11/20\n",
      "750/750 [==============================] - 155s 207ms/step - loss: 0.0067 - accuracy: 0.9999 - val_loss: 0.9844 - val_accuracy: 0.7420\n",
      "Epoch 12/20\n",
      "750/750 [==============================] - 155s 207ms/step - loss: 0.0052 - accuracy: 1.0000 - val_loss: 0.9897 - val_accuracy: 0.7402\n",
      "Epoch 13/20\n",
      "750/750 [==============================] - 155s 207ms/step - loss: 0.0057 - accuracy: 0.9998 - val_loss: 0.9975 - val_accuracy: 0.7421\n",
      "Epoch 14/20\n",
      "750/750 [==============================] - 155s 207ms/step - loss: 0.0050 - accuracy: 0.9998 - val_loss: 1.0233 - val_accuracy: 0.7368\n",
      "Epoch 15/20\n",
      "750/750 [==============================] - 155s 207ms/step - loss: 0.0041 - accuracy: 0.9999 - val_loss: 1.0092 - val_accuracy: 0.7392\n",
      "Epoch 16/20\n",
      "750/750 [==============================] - 155s 207ms/step - loss: 0.0053 - accuracy: 0.9997 - val_loss: 1.0117 - val_accuracy: 0.7429\n",
      "Epoch 17/20\n",
      "750/750 [==============================] - 155s 207ms/step - loss: 0.0053 - accuracy: 0.9998 - val_loss: 1.0173 - val_accuracy: 0.7427\n",
      "Epoch 18/20\n",
      "750/750 [==============================] - 155s 206ms/step - loss: 0.0038 - accuracy: 0.9998 - val_loss: 1.0178 - val_accuracy: 0.7414\n",
      "Epoch 19/20\n",
      "750/750 [==============================] - 155s 206ms/step - loss: 0.0036 - accuracy: 0.9998 - val_loss: 1.0317 - val_accuracy: 0.7394\n",
      "Epoch 20/20\n",
      "750/750 [==============================] - 155s 207ms/step - loss: 0.0042 - accuracy: 0.9997 - val_loss: 1.0392 - val_accuracy: 0.7378\n"
     ]
    }
   ],
   "source": [
    "# No Augmentation 모델 훈련하기\n",
    "history_resnet50 = resnet50_no_aug.fit(\n",
    "    # Augmentation 사용하지 않기\n",
    "    ds_train_no_aug,\n",
    "    # 훈련을 20 epoch 동안 수행하기\n",
    "    epochs=EPOCHS,\n",
    "    steps_per_epoch=int(ds_info.splits['train'].num_examples/16),\n",
    "    validation_steps=int(ds_info.splits['test'].num_examples/16),\n",
    "    validation_data=ds_test,\n",
    ")"
   ]
  },
  {
   "cell_type": "markdown",
   "metadata": {
    "id": "YAAomnBeZecv"
   },
   "source": [
    "**Augmentation 모델 훈련하기**"
   ]
  },
  {
   "cell_type": "code",
   "execution_count": 80,
   "metadata": {
    "id": "BFCUlR1LINS7"
   },
   "outputs": [],
   "source": [
    "# Augmentation 모델 컴파일하기\n",
    "resnet50_aug.compile(\n",
    "    # SGD 옵티마이저 사용하기\n",
    "    optimizer='sgd',\n",
    "    # 손실 함수로 categorical_crossentropy 사용하기\n",
    "    loss='categorical_crossentropy',\n",
    "    # 모델의 성능을 평가할 지표로 accuracy 사용하기\n",
    "    metrics=['accuracy']\n",
    ")"
   ]
  },
  {
   "cell_type": "code",
   "execution_count": 81,
   "metadata": {
    "colab": {
     "base_uri": "https://localhost:8080/"
    },
    "id": "dzodEyvgIZ5O",
    "outputId": "32e63fff-f46f-4211-8231-0407501a1e64"
   },
   "outputs": [
    {
     "name": "stdout",
     "output_type": "stream",
     "text": [
      "Epoch 1/20\n",
      "750/750 [==============================] - 166s 211ms/step - loss: 2.2766 - accuracy: 0.4273 - val_loss: 3.1368 - val_accuracy: 0.2507\n",
      "Epoch 2/20\n",
      "750/750 [==============================] - 156s 208ms/step - loss: 0.9359 - accuracy: 0.7372 - val_loss: 1.2616 - val_accuracy: 0.6319\n",
      "Epoch 3/20\n",
      "750/750 [==============================] - 155s 207ms/step - loss: 0.5120 - accuracy: 0.8586 - val_loss: 1.0141 - val_accuracy: 0.6950\n",
      "Epoch 4/20\n",
      "750/750 [==============================] - 156s 209ms/step - loss: 0.2635 - accuracy: 0.9390 - val_loss: 1.0647 - val_accuracy: 0.6904\n",
      "Epoch 5/20\n",
      "750/750 [==============================] - 156s 209ms/step - loss: 0.1423 - accuracy: 0.9728 - val_loss: 1.0493 - val_accuracy: 0.7022\n",
      "Epoch 6/20\n",
      "750/750 [==============================] - 156s 209ms/step - loss: 0.0822 - accuracy: 0.9868 - val_loss: 0.9993 - val_accuracy: 0.7208\n",
      "Epoch 7/20\n",
      "750/750 [==============================] - 155s 207ms/step - loss: 0.0504 - accuracy: 0.9932 - val_loss: 0.9888 - val_accuracy: 0.7291\n",
      "Epoch 8/20\n",
      "750/750 [==============================] - 155s 207ms/step - loss: 0.0313 - accuracy: 0.9973 - val_loss: 0.9642 - val_accuracy: 0.7400\n",
      "Epoch 9/20\n",
      "750/750 [==============================] - 155s 207ms/step - loss: 0.0215 - accuracy: 0.9985 - val_loss: 0.9583 - val_accuracy: 0.7423\n",
      "Epoch 10/20\n",
      "750/750 [==============================] - 155s 207ms/step - loss: 0.0187 - accuracy: 0.9984 - val_loss: 1.0860 - val_accuracy: 0.7091\n",
      "Epoch 11/20\n",
      "750/750 [==============================] - 155s 207ms/step - loss: 0.0182 - accuracy: 0.9981 - val_loss: 0.9628 - val_accuracy: 0.7444\n",
      "Epoch 12/20\n",
      "750/750 [==============================] - 155s 207ms/step - loss: 0.0103 - accuracy: 0.9998 - val_loss: 0.9685 - val_accuracy: 0.7442\n",
      "Epoch 13/20\n",
      "750/750 [==============================] - 155s 207ms/step - loss: 0.0093 - accuracy: 0.9995 - val_loss: 0.9777 - val_accuracy: 0.7479\n",
      "Epoch 14/20\n",
      "750/750 [==============================] - 155s 207ms/step - loss: 0.0079 - accuracy: 0.9995 - val_loss: 0.9687 - val_accuracy: 0.7505\n",
      "Epoch 15/20\n",
      "750/750 [==============================] - 155s 207ms/step - loss: 0.0086 - accuracy: 0.9997 - val_loss: 0.9802 - val_accuracy: 0.7494\n",
      "Epoch 16/20\n",
      "750/750 [==============================] - 155s 207ms/step - loss: 0.0060 - accuracy: 1.0000 - val_loss: 0.9823 - val_accuracy: 0.7520\n",
      "Epoch 17/20\n",
      "750/750 [==============================] - 155s 207ms/step - loss: 0.0057 - accuracy: 0.9996 - val_loss: 0.9914 - val_accuracy: 0.7531\n",
      "Epoch 18/20\n",
      "750/750 [==============================] - 155s 207ms/step - loss: 0.0051 - accuracy: 0.9998 - val_loss: 1.0047 - val_accuracy: 0.7467\n",
      "Epoch 19/20\n",
      "750/750 [==============================] - 155s 207ms/step - loss: 0.0041 - accuracy: 1.0000 - val_loss: 0.9948 - val_accuracy: 0.7520\n",
      "Epoch 20/20\n",
      "750/750 [==============================] - 155s 207ms/step - loss: 0.0038 - accuracy: 1.0000 - val_loss: 1.0067 - val_accuracy: 0.7515\n"
     ]
    }
   ],
   "source": [
    "# Augmentation 모델 훈련하기\n",
    "history_resnet50_aug = resnet50_aug.fit(\n",
    "    # Augmentation 사용하기\n",
    "    ds_train_aug,\n",
    "    # 훈련을 20 epoch 동안 수행하기\n",
    "    epochs=EPOCHS,\n",
    "    steps_per_epoch=int(ds_info.splits['train'].num_examples/16),\n",
    "    validation_steps=int(ds_info.splits['test'].num_examples/16),\n",
    "    validation_data=ds_test,\n",
    ")"
   ]
  },
  {
   "cell_type": "markdown",
   "metadata": {
    "id": "J7ghUKyxZmEr"
   },
   "source": [
    "**Augmentation + CutMix 모델 훈련하기**"
   ]
  },
  {
   "cell_type": "code",
   "execution_count": null,
   "metadata": {
    "id": "if_fotZzK-ka"
   },
   "outputs": [],
   "source": [
    "# Augmentation + Cutmix 모델 컴파일하기\n",
    "resnet50_aug_cutmix.compile(\n",
    "    # SGD 옵티마이저 사용하기\n",
    "    optimizer='sgd',\n",
    "    # 손실 함수로 categorical_crossentropy 사용하기\n",
    "    loss='categorical_crossentropy',\n",
    "    # 모델의 성능을 평가할 지표로 accuracy 사용하기\n",
    "    metrics=['accuracy']\n",
    ")"
   ]
  },
  {
   "cell_type": "code",
   "execution_count": null,
   "metadata": {
    "colab": {
     "base_uri": "https://localhost:8080/"
    },
    "id": "UQFyM7jMK-v8",
    "outputId": "d2f64fea-24ff-43f3-be5c-a8fc2ec58131"
   },
   "outputs": [
    {
     "name": "stdout",
     "output_type": "stream",
     "text": [
      "Epoch 1/20\n",
      "750/750 [==============================] - 160s 208ms/step - loss: 0.0039 - accuracy: 0.9999 - val_loss: 1.0455 - val_accuracy: 0.7417\n",
      "Epoch 2/20\n",
      "750/750 [==============================] - 155s 207ms/step - loss: 0.0042 - accuracy: 0.9998 - val_loss: 1.0174 - val_accuracy: 0.7513\n",
      "Epoch 3/20\n",
      "750/750 [==============================] - 155s 206ms/step - loss: 0.0039 - accuracy: 0.9999 - val_loss: 1.0085 - val_accuracy: 0.7517\n",
      "Epoch 4/20\n",
      "750/750 [==============================] - 155s 207ms/step - loss: 0.0033 - accuracy: 0.9999 - val_loss: 1.0136 - val_accuracy: 0.7508\n",
      "Epoch 5/20\n",
      "750/750 [==============================] - 155s 207ms/step - loss: 0.0029 - accuracy: 0.9998 - val_loss: 1.0179 - val_accuracy: 0.7513\n",
      "Epoch 6/20\n",
      "750/750 [==============================] - 155s 207ms/step - loss: 0.0033 - accuracy: 0.9998 - val_loss: 1.0212 - val_accuracy: 0.7499\n",
      "Epoch 7/20\n",
      "750/750 [==============================] - 156s 208ms/step - loss: 0.0078 - accuracy: 0.9994 - val_loss: 1.0489 - val_accuracy: 0.7463\n",
      "Epoch 8/20\n",
      "638/750 [========================>.....] - ETA: 19s - loss: 0.0057 - accuracy: 0.9995"
     ]
    }
   ],
   "source": [
    "# Augmentation + Cutmix 모델 훈련하기\n",
    "history_resnet50_aug_cutmix = resnet50_aug.fit(\n",
    "    # Augmentation 사용하기\n",
    "    ds_train_aug,\n",
    "    # 훈련을 20 epoch 동안 수행하기\n",
    "    epochs=EPOCHS,\n",
    "    steps_per_epoch=int(ds_info.splits['train'].num_examples/16),\n",
    "    validation_steps=int(ds_info.splits['test'].num_examples/16),\n",
    "    validation_data=ds_test,\n",
    ")"
   ]
  },
  {
   "cell_type": "markdown",
   "metadata": {
    "id": "fNSt-eeMZ8ko"
   },
   "source": [
    "**Augmentation + MixUp 모델 훈련하기**"
   ]
  },
  {
   "cell_type": "code",
   "execution_count": null,
   "metadata": {
    "id": "Se24P1eMK-7m"
   },
   "outputs": [],
   "source": [
    "# Augmentation + Mixup 모델 컴파일하기\n",
    "resnet50_aug_mixup.compile(\n",
    "    # SGD 옵티마이저 사용하기\n",
    "    optimizer='sgd',\n",
    "    # 손실 함수로 categorical_crossentropy 사용하기\n",
    "    loss='categorical_crossentropy',\n",
    "    # 모델의 성능을 평가할 지표로 accuracy 사용하기\n",
    "    metrics=['accuracy']\n",
    ")"
   ]
  },
  {
   "cell_type": "code",
   "execution_count": null,
   "metadata": {
    "colab": {
     "base_uri": "https://localhost:8080/"
    },
    "id": "v5nlJY3ZK_Hd",
    "outputId": "d4cf34ed-a015-47a6-c59d-de1e388c6231"
   },
   "outputs": [],
   "source": [
    "# Augmentation + Mixup 모델 훈련하기\n",
    "history_resnet50_aug_mixup = resnet50_aug.fit(\n",
    "    # Augmentation 사용하기\n",
    "    ds_train_aug,\n",
    "    # 훈련을 20 epoch 동안 수행하기\n",
    "    epochs=EPOCHS,\n",
    "    steps_per_epoch=int(ds_info.splits['train'].num_examples/16),\n",
    "    validation_steps=int(ds_info.splits['test'].num_examples/16),\n",
    "    validation_data=ds_test,\n",
    ")"
   ]
  },
  {
   "cell_type": "markdown",
   "metadata": {
    "id": "4tyoP9aAUlLk"
   },
   "source": [
    "### **4) 훈련 과정 시각화하기**"
   ]
  },
  {
   "cell_type": "markdown",
   "metadata": {
    "id": "LxUjwY-1U2E3"
   },
   "source": [
    "훈련 과정의 히스토리를 그래프로 시각화하여 봅시다."
   ]
  },
  {
   "cell_type": "code",
   "execution_count": null,
   "metadata": {
    "colab": {
     "base_uri": "https://localhost:8080/",
     "height": 472
    },
    "id": "djd0Qx3mVPb_",
    "outputId": "44535c60-2809-486a-9e34-c8c471f01b43"
   },
   "outputs": [],
   "source": [
    "# No Augmentation / With Augmentation 모델 val_accuracy 시각화하기\n",
    "plt.plot(history_resnet50.history['val_accuracy'], 'skyblue')\n",
    "plt.plot(history_resnet50_aug.history['val_accuracy'], 'orange')\n",
    "plt.title('Model Validation Accuracy')\n",
    "plt.ylabel('Validation Accuracy')\n",
    "plt.xlabel('Epoch')\n",
    "plt.legend(['No Augmentation',\n",
    "            'Augmentation'], loc='upper left')\n",
    "plt.ylim(0.60, 0.76)\n",
    "plt.show()"
   ]
  },
  {
   "cell_type": "markdown",
   "metadata": {
    "id": "xnuDbslZyDKJ"
   },
   "source": [
    "> 데이터 증강이 초기 성능 향상에 기여할 수는 있지만, 최종적인 검증 정확도에서는 큰 차이가 없음을 보여줍니다."
   ]
  },
  {
   "cell_type": "code",
   "execution_count": null,
   "metadata": {
    "colab": {
     "base_uri": "https://localhost:8080/",
     "height": 472
    },
    "id": "jSQcLKJzj0Lg",
    "outputId": "7aa932b4-9393-4914-a5c6-e65dd797c834"
   },
   "outputs": [],
   "source": [
    "# No Augmentation / With Augmentation 모델 val_loss 시각화하기\n",
    "plt.plot(history_resnet50.history['val_loss'], 'magenta')\n",
    "plt.plot(history_resnet50_aug.history['val_loss'], 'lightgreen')\n",
    "plt.title('Model Validation Loss')\n",
    "plt.ylabel('Validation Loss')\n",
    "plt.xlabel('Epoch')\n",
    "plt.legend(['No Augmentation',\n",
    "            'Augmentation'], loc='upper right')\n",
    "plt.ylim(0.8, 1.4)\n",
    "plt.show()"
   ]
  },
  {
   "cell_type": "markdown",
   "metadata": {
    "id": "LBFIk_NWy27M"
   },
   "source": [
    "> 데이터 증강이 검증 세트에서 더 낮고 안정적인 검증 손실을 보여 모델의 일반화 능력을 향상시키는 것으로 해석됩니다."
   ]
  },
  {
   "cell_type": "markdown",
   "metadata": {
    "id": "jDO-ucaEyFGk"
   },
   "source": [
    ">"
   ]
  },
  {
   "cell_type": "code",
   "execution_count": null,
   "metadata": {
    "colab": {
     "base_uri": "https://localhost:8080/",
     "height": 472
    },
    "id": "JGbSjq4fVpuV",
    "outputId": "85df3c3c-d595-467d-fdb7-853ea7a1f86b"
   },
   "outputs": [],
   "source": [
    "# CutMix / MixUp 모델 val_accuracy 시각화하기\n",
    "plt.plot(history_resnet50_aug_cutmix.history['val_accuracy'], 'skyblue')\n",
    "plt.plot(history_resnet50_aug_mixup.history['val_accuracy'], 'orange')\n",
    "plt.title('Model Validation Accuracy')\n",
    "plt.ylabel('Validation Accuracy')\n",
    "plt.xlabel('Epoch')\n",
    "plt.legend(['Augmentation + CutMix',\n",
    "            'Augmentation + MixUp'], loc='lower right')\n",
    "plt.show()"
   ]
  },
  {
   "cell_type": "markdown",
   "metadata": {
    "id": "cQjChvxpy4qB"
   },
   "source": [
    "> MixUp 증강 기법이 CutMix 증강 기법보다 더 나은 성능을 보이며, 검증 데이터셋에서 더 높은 정확도를 달성하는 것으로 해석됩니다."
   ]
  },
  {
   "cell_type": "code",
   "execution_count": null,
   "metadata": {
    "colab": {
     "base_uri": "https://localhost:8080/",
     "height": 472
    },
    "id": "AJuskmnWvRfi",
    "outputId": "1711ebd3-7b3a-4584-8260-7f29046ae11d"
   },
   "outputs": [],
   "source": [
    "# CutMix / MixUp 모델 val_loss 시각화하기\n",
    "plt.plot(history_resnet50_aug_cutmix.history['val_loss'], 'magenta')\n",
    "plt.plot(history_resnet50_aug_mixup.history['val_loss'], 'lightgreen')\n",
    "plt.title('Model Validation Loss')\n",
    "plt.ylabel('Validation Loss')\n",
    "plt.xlabel('Epoch')\n",
    "plt.legend(['Augmentation + CutMix',\n",
    "            'Augmentation + MixUp'], loc='lower right')\n",
    "plt.show()"
   ]
  },
  {
   "cell_type": "markdown",
   "metadata": {
    "id": "JTaXdObpy7Tx"
   },
   "source": [
    "> MixUp 증강 기법이 CutMix 증강 기법보다 검증 데이터셋에서 더 낮은 손실을 보여 모델의 성능 향상에 기여하는 것으로 해석됩니다."
   ]
  },
  {
   "cell_type": "markdown",
   "metadata": {
    "id": "tjsbjwlzYjxz"
   },
   "source": [
    "### **5) Augmentation에 의한 모델 성능 비교하기**"
   ]
  },
  {
   "cell_type": "markdown",
   "metadata": {
    "id": "CSVaZkbFYpzv"
   },
   "source": [
    "**No Augmentation**, **기본 Augmentation**, **기본 + CutMix 적용**, **기본 + Mixup 적용**\n",
    "\n",
    "4가지 경우의 데이터셋에 대해 훈련된 **ResNet50 분류기의 견종 분류 정확도 성능을 비교**해 보고,\n",
    "\n",
    "**Augmentation 방법들의 영향도에 대해 분석**해 보세요."
   ]
  },
  {
   "cell_type": "code",
   "execution_count": null,
   "metadata": {
    "colab": {
     "base_uri": "https://localhost:8080/",
     "height": 472
    },
    "id": "xh6L6a6tcFiK",
    "outputId": "9d64e17b-5844-4e8d-bd34-003a47fec8b1"
   },
   "outputs": [],
   "source": [
    "# 4가지 모델 val_accuracy 시각화하기\n",
    "plt.plot(history_resnet50.history['val_accuracy'], 'skyblue')\n",
    "plt.plot(history_resnet50_aug.history['val_accuracy'], 'orange')\n",
    "plt.plot(history_resnet50_aug_cutmix.history['val_accuracy'], 'magenta')\n",
    "plt.plot(history_resnet50_aug_mixup.history['val_accuracy'], 'lightgreen')\n",
    "plt.title('Model Validation Accuracy')\n",
    "plt.ylabel('Validation Accuracy')\n",
    "plt.xlabel('Epoch')\n",
    "plt.legend(['No Augmentation',\n",
    "            'With Augmentation',\n",
    "            'With Augmentation + CutMix',\n",
    "            'With Augmentation + MixUp'],\n",
    "            loc='lower right')\n",
    "plt.ylim(0.63, 0.78)\n",
    "plt.show()"
   ]
  },
  {
   "cell_type": "markdown",
   "metadata": {
    "id": "gVC2-YRlxxZj"
   },
   "source": [
    "> CutMix와 MixUp을 포함한 데이터 증강 방법이 검증 정확도 향상에 가장 효과적입니다. 일반적인 데이터 증강 방법도 No Augmentation보다 성능이 더 좋습니다. 특히, MixUp을 사용한 경우 검증 정확도가 가장 높게 나타나는 경향을 보입니다."
   ]
  },
  {
   "cell_type": "code",
   "execution_count": null,
   "metadata": {
    "colab": {
     "base_uri": "https://localhost:8080/",
     "height": 472
    },
    "id": "M-PvUC3ev80s",
    "outputId": "27078c48-bb7a-4975-a134-beb9a4579dea"
   },
   "outputs": [],
   "source": [
    "# 4가지 모델 val_loss 시각화하기\n",
    "plt.plot(history_resnet50.history['val_loss'], 'skyblue')\n",
    "plt.plot(history_resnet50_aug.history['val_loss'], 'orange')\n",
    "plt.plot(history_resnet50_aug_cutmix.history['val_loss'], 'magenta')\n",
    "plt.plot(history_resnet50_aug_mixup.history['val_loss'], 'lightgreen')\n",
    "plt.title('Model Validation Loss')\n",
    "plt.ylabel('Validation Loss')\n",
    "plt.xlabel('Epoch')\n",
    "plt.legend(['No Augmentation',\n",
    "            'With Augmentation',\n",
    "            'With Augmentation + CutMix',\n",
    "            'With Augmentation + MixUp'],\n",
    "            loc='upper right')\n",
    "plt.ylim(0.8, 1.4)\n",
    "plt.show()"
   ]
  },
  {
   "cell_type": "markdown",
   "metadata": {
    "id": "GAsD7PgXxvWP"
   },
   "source": [
    "> CutMix를 포함한 데이터 증강 방법이 검증 손실을 가장 효과적으로 줄이는 반면, MixUp을 포함한 방법은 손실 감소 효과가 덜합니다. 일반적인 데이터 증강 방법도 No Augmentation보다 성능이 더 좋습니다."
   ]
  },
  {
   "cell_type": "code",
   "execution_count": null,
   "metadata": {
    "id": "G82s5MdIev5a"
   },
   "outputs": [],
   "source": [
    "def get_df_resnet50_result(col='val_accuracy'):\n",
    "    # 4가지 모델 학습 결과 저장하기\n",
    "    resnet50 = {\n",
    "        'No Augmentation': history_resnet50.history[col],\n",
    "        'Augmentation': history_resnet50_aug.history[col],\n",
    "        'Augmentation + CutMix': history_resnet50_aug_cutmix.history[col],\n",
    "        'Augmentation + Mixup': history_resnet50_aug_mixup.history[col]\n",
    "    }\n",
    "\n",
    "    # 데이터 프레임으로 생성하기\n",
    "    df_resnet50 = pd.DataFrame(resnet50, index=[f'EPOCHS_{i}' for i in range(EPOCHS)])\n",
    "    return df_resnet50"
   ]
  },
  {
   "cell_type": "code",
   "execution_count": null,
   "metadata": {
    "id": "FEN_8JqjeP4k"
   },
   "outputs": [],
   "source": [
    "# 4가지 모델 학습결과 딕셔너리 형태로 최종 결과 저장하기\n",
    "resnet50_result = {\n",
    "    'val_loss': {\n",
    "        # 각 학습 방법에 대한 마지막 검증 손실 값 저장하기\n",
    "        'No Augmentation': round(history_resnet50.history['val_loss'][-1], 2),\n",
    "        'Augmentation': round(history_resnet50_aug.history['val_loss'][-1], 2),\n",
    "        'Augmentation + CutMix': round(history_resnet50_aug_cutmix.history['val_loss'][-1], 2),\n",
    "        'Augmentation + Mixup': round(history_resnet50_aug_mixup.history['val_loss'][-1], 2)\n",
    "    },\n",
    "    'val_accuracy': {\n",
    "        # 각 학습 방법에 대한 마지막 검증 정확도 값 저장하기\n",
    "        'No Augmentation': round(history_resnet50.history['val_accuracy'][-1], 2),\n",
    "        'Augmentation': round(history_resnet50_aug.history['val_accuracy'][-1], 2),\n",
    "        'Augmentation + CutMix': round(history_resnet50_aug_cutmix.history['val_accuracy'][-1], 2),\n",
    "        'Augmentation + Mixup': round(history_resnet50_aug_mixup.history['val_accuracy'][-1], 2)\n",
    "    }\n",
    "}"
   ]
  },
  {
   "cell_type": "code",
   "execution_count": null,
   "metadata": {
    "colab": {
     "base_uri": "https://localhost:8080/",
     "height": 175
    },
    "id": "WfSy7lCReiiB",
    "outputId": "acc5ad59-1597-4982-c3ac-aafe02333b37"
   },
   "outputs": [],
   "source": [
    "# 데이터 프레임 생성하기\n",
    "df_resnet50_result = pd.DataFrame(resnet50_result)\n",
    "df_resnet50_result"
   ]
  },
  {
   "cell_type": "markdown",
   "metadata": {
    "id": "3-vw3A09wUuK"
   },
   "source": [
    "> 모델은 `Augmentation + CutMix`, `Augmentation\t`, `Augmentation + Mixup`, `Augmentation` 순으로 좋은 것으로 나타났습니다."
   ]
  },
  {
   "cell_type": "markdown",
   "metadata": {
    "id": "-HVcEkF1xfzj"
   },
   "source": [
    "* **일반적인 데이터 증강을 사용**하면 검증 손실이 감소하고 검증 정확도가 약간 향상됩니다.\n",
    "* **CutMix 기법을 추가로 사용**하면 검증 손실은 동일하지만, 검증 정확도가 더 향상됩니다.\n",
    "* **Mixup 기법을 추가로 사용**하면 검증 손실이 증가하지만, 검증 정확도는 일반 데이터 증강과 동일한 수준을 유지합니다."
   ]
  },
  {
   "cell_type": "markdown",
   "metadata": {
    "id": "sO1ZnXcGcvUw"
   },
   "source": []
  },
  {
   "cell_type": "markdown",
   "metadata": {
    "id": "mYNyoVUc81Gw"
   },
   "source": []
  },
  {
   "cell_type": "code",
   "execution_count": null,
   "metadata": {},
   "outputs": [],
   "source": []
  },
  {
   "cell_type": "code",
   "execution_count": null,
   "metadata": {},
   "outputs": [],
   "source": []
  },
  {
   "cell_type": "code",
   "execution_count": null,
   "metadata": {},
   "outputs": [],
   "source": []
  },
  {
   "cell_type": "code",
   "execution_count": null,
   "metadata": {},
   "outputs": [],
   "source": []
  },
  {
   "cell_type": "code",
   "execution_count": null,
   "metadata": {},
   "outputs": [],
   "source": []
  }
 ],
 "metadata": {
  "accelerator": "GPU",
  "colab": {
   "gpuType": "A100",
   "machine_shape": "hm",
   "provenance": []
  },
  "kernelspec": {
   "display_name": "Python 3 (ipykernel)",
   "language": "python",
   "name": "python3"
  },
  "language_info": {
   "codemirror_mode": {
    "name": "ipython",
    "version": 3
   },
   "file_extension": ".py",
   "mimetype": "text/x-python",
   "name": "python",
   "nbconvert_exporter": "python",
   "pygments_lexer": "ipython3",
   "version": "3.9.7"
  },
  "widgets": {
   "application/vnd.jupyter.widget-state+json": {
    "02181a44af8847fb8835fe3d63f2f90c": {
     "model_module": "@jupyter-widgets/base",
     "model_module_version": "1.2.0",
     "model_name": "LayoutModel",
     "state": {
      "_model_module": "@jupyter-widgets/base",
      "_model_module_version": "1.2.0",
      "_model_name": "LayoutModel",
      "_view_count": null,
      "_view_module": "@jupyter-widgets/base",
      "_view_module_version": "1.2.0",
      "_view_name": "LayoutView",
      "align_content": null,
      "align_items": null,
      "align_self": null,
      "border": null,
      "bottom": null,
      "display": null,
      "flex": null,
      "flex_flow": null,
      "grid_area": null,
      "grid_auto_columns": null,
      "grid_auto_flow": null,
      "grid_auto_rows": null,
      "grid_column": null,
      "grid_gap": null,
      "grid_row": null,
      "grid_template_areas": null,
      "grid_template_columns": null,
      "grid_template_rows": null,
      "height": null,
      "justify_content": null,
      "justify_items": null,
      "left": null,
      "margin": null,
      "max_height": null,
      "max_width": null,
      "min_height": null,
      "min_width": null,
      "object_fit": null,
      "object_position": null,
      "order": null,
      "overflow": null,
      "overflow_x": null,
      "overflow_y": null,
      "padding": null,
      "right": null,
      "top": null,
      "visibility": null,
      "width": null
     }
    },
    "062f847488bd4196a9d1b668c2b5dacb": {
     "model_module": "@jupyter-widgets/controls",
     "model_module_version": "1.5.0",
     "model_name": "HTMLModel",
     "state": {
      "_dom_classes": [],
      "_model_module": "@jupyter-widgets/controls",
      "_model_module_version": "1.5.0",
      "_model_name": "HTMLModel",
      "_view_count": null,
      "_view_module": "@jupyter-widgets/controls",
      "_view_module_version": "1.5.0",
      "_view_name": "HTMLView",
      "description": "",
      "description_tooltip": null,
      "layout": "IPY_MODEL_f1fb244595d8425b8a09ad689ce2fcce",
      "placeholder": "​",
      "style": "IPY_MODEL_1795dadffcd04e9a9b31f15adc03e2cf",
      "value": "Generating splits...: 100%"
     }
    },
    "09d6d04c643043ff841f9d6c63ce1730": {
     "model_module": "@jupyter-widgets/controls",
     "model_module_version": "1.5.0",
     "model_name": "HTMLModel",
     "state": {
      "_dom_classes": [],
      "_model_module": "@jupyter-widgets/controls",
      "_model_module_version": "1.5.0",
      "_model_name": "HTMLModel",
      "_view_count": null,
      "_view_module": "@jupyter-widgets/controls",
      "_view_module_version": "1.5.0",
      "_view_name": "HTMLView",
      "description": "",
      "description_tooltip": null,
      "layout": "IPY_MODEL_485885ff799e4c11945fed560f1701b0",
      "placeholder": "​",
      "style": "IPY_MODEL_98f13ef1f8f94d0e802a49888f324ebb",
      "value": " 1/1 [01:55&lt;00:00, 115.43s/ url]"
     }
    },
    "0e30de3f16a44010a5ef6fdb35470788": {
     "model_module": "@jupyter-widgets/base",
     "model_module_version": "1.2.0",
     "model_name": "LayoutModel",
     "state": {
      "_model_module": "@jupyter-widgets/base",
      "_model_module_version": "1.2.0",
      "_model_name": "LayoutModel",
      "_view_count": null,
      "_view_module": "@jupyter-widgets/base",
      "_view_module_version": "1.2.0",
      "_view_name": "LayoutView",
      "align_content": null,
      "align_items": null,
      "align_self": null,
      "border": null,
      "bottom": null,
      "display": null,
      "flex": null,
      "flex_flow": null,
      "grid_area": null,
      "grid_auto_columns": null,
      "grid_auto_flow": null,
      "grid_auto_rows": null,
      "grid_column": null,
      "grid_gap": null,
      "grid_row": null,
      "grid_template_areas": null,
      "grid_template_columns": null,
      "grid_template_rows": null,
      "height": null,
      "justify_content": null,
      "justify_items": null,
      "left": null,
      "margin": null,
      "max_height": null,
      "max_width": null,
      "min_height": null,
      "min_width": null,
      "object_fit": null,
      "object_position": null,
      "order": null,
      "overflow": null,
      "overflow_x": null,
      "overflow_y": null,
      "padding": null,
      "right": null,
      "top": null,
      "visibility": null,
      "width": null
     }
    },
    "0efa537245eb4a6fbd610e65b60f2ae6": {
     "model_module": "@jupyter-widgets/controls",
     "model_module_version": "1.5.0",
     "model_name": "DescriptionStyleModel",
     "state": {
      "_model_module": "@jupyter-widgets/controls",
      "_model_module_version": "1.5.0",
      "_model_name": "DescriptionStyleModel",
      "_view_count": null,
      "_view_module": "@jupyter-widgets/base",
      "_view_module_version": "1.2.0",
      "_view_name": "StyleView",
      "description_width": ""
     }
    },
    "0fe6d0d4492e496d890808e5e782d382": {
     "model_module": "@jupyter-widgets/base",
     "model_module_version": "1.2.0",
     "model_name": "LayoutModel",
     "state": {
      "_model_module": "@jupyter-widgets/base",
      "_model_module_version": "1.2.0",
      "_model_name": "LayoutModel",
      "_view_count": null,
      "_view_module": "@jupyter-widgets/base",
      "_view_module_version": "1.2.0",
      "_view_name": "LayoutView",
      "align_content": null,
      "align_items": null,
      "align_self": null,
      "border": null,
      "bottom": null,
      "display": null,
      "flex": null,
      "flex_flow": null,
      "grid_area": null,
      "grid_auto_columns": null,
      "grid_auto_flow": null,
      "grid_auto_rows": null,
      "grid_column": null,
      "grid_gap": null,
      "grid_row": null,
      "grid_template_areas": null,
      "grid_template_columns": null,
      "grid_template_rows": null,
      "height": null,
      "justify_content": null,
      "justify_items": null,
      "left": null,
      "margin": null,
      "max_height": null,
      "max_width": null,
      "min_height": null,
      "min_width": null,
      "object_fit": null,
      "object_position": null,
      "order": null,
      "overflow": null,
      "overflow_x": null,
      "overflow_y": null,
      "padding": null,
      "right": null,
      "top": null,
      "visibility": null,
      "width": null
     }
    },
    "13c745b431504f669b64c5dc049258ba": {
     "model_module": "@jupyter-widgets/controls",
     "model_module_version": "1.5.0",
     "model_name": "HTMLModel",
     "state": {
      "_dom_classes": [],
      "_model_module": "@jupyter-widgets/controls",
      "_model_module_version": "1.5.0",
      "_model_name": "HTMLModel",
      "_view_count": null,
      "_view_module": "@jupyter-widgets/controls",
      "_view_module_version": "1.5.0",
      "_view_name": "HTMLView",
      "description": "",
      "description_tooltip": null,
      "layout": "IPY_MODEL_b1db8fd908f74122863ce1a75f31619a",
      "placeholder": "​",
      "style": "IPY_MODEL_57c67da84b24485e9f594c714fa3442f",
      "value": " 8247/8580 [00:08&lt;00:00, 906.40 examples/s]"
     }
    },
    "1701345915df4c8ba037519b885a20fa": {
     "model_module": "@jupyter-widgets/base",
     "model_module_version": "1.2.0",
     "model_name": "LayoutModel",
     "state": {
      "_model_module": "@jupyter-widgets/base",
      "_model_module_version": "1.2.0",
      "_model_name": "LayoutModel",
      "_view_count": null,
      "_view_module": "@jupyter-widgets/base",
      "_view_module_version": "1.2.0",
      "_view_name": "LayoutView",
      "align_content": null,
      "align_items": null,
      "align_self": null,
      "border": null,
      "bottom": null,
      "display": null,
      "flex": null,
      "flex_flow": null,
      "grid_area": null,
      "grid_auto_columns": null,
      "grid_auto_flow": null,
      "grid_auto_rows": null,
      "grid_column": null,
      "grid_gap": null,
      "grid_row": null,
      "grid_template_areas": null,
      "grid_template_columns": null,
      "grid_template_rows": null,
      "height": null,
      "justify_content": null,
      "justify_items": null,
      "left": null,
      "margin": null,
      "max_height": null,
      "max_width": null,
      "min_height": null,
      "min_width": null,
      "object_fit": null,
      "object_position": null,
      "order": null,
      "overflow": null,
      "overflow_x": null,
      "overflow_y": null,
      "padding": null,
      "right": null,
      "top": null,
      "visibility": null,
      "width": null
     }
    },
    "1795dadffcd04e9a9b31f15adc03e2cf": {
     "model_module": "@jupyter-widgets/controls",
     "model_module_version": "1.5.0",
     "model_name": "DescriptionStyleModel",
     "state": {
      "_model_module": "@jupyter-widgets/controls",
      "_model_module_version": "1.5.0",
      "_model_name": "DescriptionStyleModel",
      "_view_count": null,
      "_view_module": "@jupyter-widgets/base",
      "_view_module_version": "1.2.0",
      "_view_name": "StyleView",
      "description_width": ""
     }
    },
    "18dafe2b331f4a1c964684ff0374bb4b": {
     "model_module": "@jupyter-widgets/controls",
     "model_module_version": "1.5.0",
     "model_name": "HTMLModel",
     "state": {
      "_dom_classes": [],
      "_model_module": "@jupyter-widgets/controls",
      "_model_module_version": "1.5.0",
      "_model_name": "HTMLModel",
      "_view_count": null,
      "_view_module": "@jupyter-widgets/controls",
      "_view_module_version": "1.5.0",
      "_view_name": "HTMLView",
      "description": "",
      "description_tooltip": null,
      "layout": "IPY_MODEL_fe7aa50978d94c9b9cf7b32fa12bd99e",
      "placeholder": "​",
      "style": "IPY_MODEL_5b37b7c7c521430fbe2be28bcd3d1ae1",
      "value": "Shuffling /root/tensorflow_datasets/stanford_dogs/incomplete.R8JXC6_0.2.0/stanford_dogs-train.tfrecord*...:   0%"
     }
    },
    "18f39f7215bd42df929f8b2615f0e3d2": {
     "model_module": "@jupyter-widgets/base",
     "model_module_version": "1.2.0",
     "model_name": "LayoutModel",
     "state": {
      "_model_module": "@jupyter-widgets/base",
      "_model_module_version": "1.2.0",
      "_model_name": "LayoutModel",
      "_view_count": null,
      "_view_module": "@jupyter-widgets/base",
      "_view_module_version": "1.2.0",
      "_view_name": "LayoutView",
      "align_content": null,
      "align_items": null,
      "align_self": null,
      "border": null,
      "bottom": null,
      "display": null,
      "flex": null,
      "flex_flow": null,
      "grid_area": null,
      "grid_auto_columns": null,
      "grid_auto_flow": null,
      "grid_auto_rows": null,
      "grid_column": null,
      "grid_gap": null,
      "grid_row": null,
      "grid_template_areas": null,
      "grid_template_columns": null,
      "grid_template_rows": null,
      "height": null,
      "justify_content": null,
      "justify_items": null,
      "left": null,
      "margin": null,
      "max_height": null,
      "max_width": null,
      "min_height": null,
      "min_width": null,
      "object_fit": null,
      "object_position": null,
      "order": null,
      "overflow": null,
      "overflow_x": null,
      "overflow_y": null,
      "padding": null,
      "right": null,
      "top": null,
      "visibility": null,
      "width": null
     }
    },
    "1ab9c473d9b44c698033773e8c1f2a1e": {
     "model_module": "@jupyter-widgets/controls",
     "model_module_version": "1.5.0",
     "model_name": "DescriptionStyleModel",
     "state": {
      "_model_module": "@jupyter-widgets/controls",
      "_model_module_version": "1.5.0",
      "_model_name": "DescriptionStyleModel",
      "_view_count": null,
      "_view_module": "@jupyter-widgets/base",
      "_view_module_version": "1.2.0",
      "_view_name": "StyleView",
      "description_width": ""
     }
    },
    "1ba3deeeb6e145ad950782f74b3d7218": {
     "model_module": "@jupyter-widgets/controls",
     "model_module_version": "1.5.0",
     "model_name": "FloatProgressModel",
     "state": {
      "_dom_classes": [],
      "_model_module": "@jupyter-widgets/controls",
      "_model_module_version": "1.5.0",
      "_model_name": "FloatProgressModel",
      "_view_count": null,
      "_view_module": "@jupyter-widgets/controls",
      "_view_module_version": "1.5.0",
      "_view_name": "ProgressView",
      "bar_style": "",
      "description": "",
      "description_tooltip": null,
      "layout": "IPY_MODEL_b3162a817fc54294806eebe015c44e89",
      "max": 8580,
      "min": 0,
      "orientation": "horizontal",
      "style": "IPY_MODEL_ddee4db5d17d4690b1b121389c981aa7",
      "value": 8580
     }
    },
    "1be72f3563a8481593f3f526b493da02": {
     "model_module": "@jupyter-widgets/controls",
     "model_module_version": "1.5.0",
     "model_name": "HBoxModel",
     "state": {
      "_dom_classes": [],
      "_model_module": "@jupyter-widgets/controls",
      "_model_module_version": "1.5.0",
      "_model_name": "HBoxModel",
      "_view_count": null,
      "_view_module": "@jupyter-widgets/controls",
      "_view_module_version": "1.5.0",
      "_view_name": "HBoxView",
      "box_style": "",
      "children": [
       "IPY_MODEL_24bd6bc1d97b410a88f533d5c78a5baa",
       "IPY_MODEL_2c335453fc3c4dc7bc4b4896e3b45603",
       "IPY_MODEL_c8cacec313a4418cbfcb084a7832ae4c"
      ],
      "layout": "IPY_MODEL_3a199ed17f9941668940e8302ab2156a"
     }
    },
    "1e92c6e955994d19a2c29a6fb72b156c": {
     "model_module": "@jupyter-widgets/controls",
     "model_module_version": "1.5.0",
     "model_name": "HTMLModel",
     "state": {
      "_dom_classes": [],
      "_model_module": "@jupyter-widgets/controls",
      "_model_module_version": "1.5.0",
      "_model_name": "HTMLModel",
      "_view_count": null,
      "_view_module": "@jupyter-widgets/controls",
      "_view_module_version": "1.5.0",
      "_view_name": "HTMLView",
      "description": "",
      "description_tooltip": null,
      "layout": "IPY_MODEL_9939268b17a5463aa780f3bf998c46b0",
      "placeholder": "​",
      "style": "IPY_MODEL_999764e252f042e98181073f58863ccb",
      "value": " 20583/20583 [00:37&lt;00:00, 1432.51 file/s]"
     }
    },
    "213e135f294347b48d81a9acfc67ca7b": {
     "model_module": "@jupyter-widgets/controls",
     "model_module_version": "1.5.0",
     "model_name": "DescriptionStyleModel",
     "state": {
      "_model_module": "@jupyter-widgets/controls",
      "_model_module_version": "1.5.0",
      "_model_name": "DescriptionStyleModel",
      "_view_count": null,
      "_view_module": "@jupyter-widgets/base",
      "_view_module_version": "1.2.0",
      "_view_name": "StyleView",
      "description_width": ""
     }
    },
    "22264896b8d84c9c9951add92d915ad9": {
     "model_module": "@jupyter-widgets/controls",
     "model_module_version": "1.5.0",
     "model_name": "ProgressStyleModel",
     "state": {
      "_model_module": "@jupyter-widgets/controls",
      "_model_module_version": "1.5.0",
      "_model_name": "ProgressStyleModel",
      "_view_count": null,
      "_view_module": "@jupyter-widgets/base",
      "_view_module_version": "1.2.0",
      "_view_name": "StyleView",
      "bar_color": null,
      "description_width": ""
     }
    },
    "225c044ca41444b1b3a601c49633acab": {
     "model_module": "@jupyter-widgets/controls",
     "model_module_version": "1.5.0",
     "model_name": "DescriptionStyleModel",
     "state": {
      "_model_module": "@jupyter-widgets/controls",
      "_model_module_version": "1.5.0",
      "_model_name": "DescriptionStyleModel",
      "_view_count": null,
      "_view_module": "@jupyter-widgets/base",
      "_view_module_version": "1.2.0",
      "_view_name": "StyleView",
      "description_width": ""
     }
    },
    "245005940bc342abb2e5aa95f2a0a4cb": {
     "model_module": "@jupyter-widgets/controls",
     "model_module_version": "1.5.0",
     "model_name": "ProgressStyleModel",
     "state": {
      "_model_module": "@jupyter-widgets/controls",
      "_model_module_version": "1.5.0",
      "_model_name": "ProgressStyleModel",
      "_view_count": null,
      "_view_module": "@jupyter-widgets/base",
      "_view_module_version": "1.2.0",
      "_view_name": "StyleView",
      "bar_color": null,
      "description_width": ""
     }
    },
    "24bd6bc1d97b410a88f533d5c78a5baa": {
     "model_module": "@jupyter-widgets/controls",
     "model_module_version": "1.5.0",
     "model_name": "HTMLModel",
     "state": {
      "_dom_classes": [],
      "_model_module": "@jupyter-widgets/controls",
      "_model_module_version": "1.5.0",
      "_model_name": "HTMLModel",
      "_view_count": null,
      "_view_module": "@jupyter-widgets/controls",
      "_view_module_version": "1.5.0",
      "_view_name": "HTMLView",
      "description": "",
      "description_tooltip": null,
      "layout": "IPY_MODEL_3cf6551635fc4a399f84c58bb1bbebe5",
      "placeholder": "​",
      "style": "IPY_MODEL_5f0a4ff902bc4d8685ccb14380f488e0",
      "value": "Dl Completed...: 100%"
     }
    },
    "282339adad3b4a7888c841b372acf819": {
     "model_module": "@jupyter-widgets/base",
     "model_module_version": "1.2.0",
     "model_name": "LayoutModel",
     "state": {
      "_model_module": "@jupyter-widgets/base",
      "_model_module_version": "1.2.0",
      "_model_name": "LayoutModel",
      "_view_count": null,
      "_view_module": "@jupyter-widgets/base",
      "_view_module_version": "1.2.0",
      "_view_name": "LayoutView",
      "align_content": null,
      "align_items": null,
      "align_self": null,
      "border": null,
      "bottom": null,
      "display": null,
      "flex": null,
      "flex_flow": null,
      "grid_area": null,
      "grid_auto_columns": null,
      "grid_auto_flow": null,
      "grid_auto_rows": null,
      "grid_column": null,
      "grid_gap": null,
      "grid_row": null,
      "grid_template_areas": null,
      "grid_template_columns": null,
      "grid_template_rows": null,
      "height": null,
      "justify_content": null,
      "justify_items": null,
      "left": null,
      "margin": null,
      "max_height": null,
      "max_width": null,
      "min_height": null,
      "min_width": null,
      "object_fit": null,
      "object_position": null,
      "order": null,
      "overflow": null,
      "overflow_x": null,
      "overflow_y": null,
      "padding": null,
      "right": null,
      "top": null,
      "visibility": null,
      "width": "20px"
     }
    },
    "2c335453fc3c4dc7bc4b4896e3b45603": {
     "model_module": "@jupyter-widgets/controls",
     "model_module_version": "1.5.0",
     "model_name": "FloatProgressModel",
     "state": {
      "_dom_classes": [],
      "_model_module": "@jupyter-widgets/controls",
      "_model_module_version": "1.5.0",
      "_model_name": "FloatProgressModel",
      "_view_count": null,
      "_view_module": "@jupyter-widgets/controls",
      "_view_module_version": "1.5.0",
      "_view_name": "ProgressView",
      "bar_style": "success",
      "description": "",
      "description_tooltip": null,
      "layout": "IPY_MODEL_e12ec1819d764fcfb0e478294d4d6bf9",
      "max": 1,
      "min": 0,
      "orientation": "horizontal",
      "style": "IPY_MODEL_245005940bc342abb2e5aa95f2a0a4cb",
      "value": 1
     }
    },
    "2d3dfad4a0014d04abc91be70806ae37": {
     "model_module": "@jupyter-widgets/controls",
     "model_module_version": "1.5.0",
     "model_name": "DescriptionStyleModel",
     "state": {
      "_model_module": "@jupyter-widgets/controls",
      "_model_module_version": "1.5.0",
      "_model_name": "DescriptionStyleModel",
      "_view_count": null,
      "_view_module": "@jupyter-widgets/base",
      "_view_module_version": "1.2.0",
      "_view_name": "StyleView",
      "description_width": ""
     }
    },
    "2f7aa30120194114965841648407cfca": {
     "model_module": "@jupyter-widgets/controls",
     "model_module_version": "1.5.0",
     "model_name": "HBoxModel",
     "state": {
      "_dom_classes": [],
      "_model_module": "@jupyter-widgets/controls",
      "_model_module_version": "1.5.0",
      "_model_name": "HBoxModel",
      "_view_count": null,
      "_view_module": "@jupyter-widgets/controls",
      "_view_module_version": "1.5.0",
      "_view_name": "HBoxView",
      "box_style": "",
      "children": [
       "IPY_MODEL_d2fc451a54d44bb4bc0a63c2913670b0",
       "IPY_MODEL_6a2a64876e094e48b0af1fafb6f8ffce",
       "IPY_MODEL_13c745b431504f669b64c5dc049258ba"
      ],
      "layout": "IPY_MODEL_b367faeb3c0d4275af29d0a256e437fc"
     }
    },
    "2f9185d4685048e5a17cbcf65111c041": {
     "model_module": "@jupyter-widgets/controls",
     "model_module_version": "1.5.0",
     "model_name": "ProgressStyleModel",
     "state": {
      "_model_module": "@jupyter-widgets/controls",
      "_model_module_version": "1.5.0",
      "_model_name": "ProgressStyleModel",
      "_view_count": null,
      "_view_module": "@jupyter-widgets/base",
      "_view_module_version": "1.2.0",
      "_view_name": "StyleView",
      "bar_color": null,
      "description_width": ""
     }
    },
    "38047e4705404c6d96cf96e1791670f6": {
     "model_module": "@jupyter-widgets/controls",
     "model_module_version": "1.5.0",
     "model_name": "HTMLModel",
     "state": {
      "_dom_classes": [],
      "_model_module": "@jupyter-widgets/controls",
      "_model_module_version": "1.5.0",
      "_model_name": "HTMLModel",
      "_view_count": null,
      "_view_module": "@jupyter-widgets/controls",
      "_view_module_version": "1.5.0",
      "_view_name": "HTMLView",
      "description": "",
      "description_tooltip": null,
      "layout": "IPY_MODEL_a1b25f863086428e8a10201b02e6fb04",
      "placeholder": "​",
      "style": "IPY_MODEL_66b6749165e44b668c4f3d0768eef576",
      "value": "Shuffling /root/tensorflow_datasets/stanford_dogs/incomplete.R8JXC6_0.2.0/stanford_dogs-test.tfrecord*...:   0%"
     }
    },
    "3a199ed17f9941668940e8302ab2156a": {
     "model_module": "@jupyter-widgets/base",
     "model_module_version": "1.2.0",
     "model_name": "LayoutModel",
     "state": {
      "_model_module": "@jupyter-widgets/base",
      "_model_module_version": "1.2.0",
      "_model_name": "LayoutModel",
      "_view_count": null,
      "_view_module": "@jupyter-widgets/base",
      "_view_module_version": "1.2.0",
      "_view_name": "LayoutView",
      "align_content": null,
      "align_items": null,
      "align_self": null,
      "border": null,
      "bottom": null,
      "display": null,
      "flex": null,
      "flex_flow": null,
      "grid_area": null,
      "grid_auto_columns": null,
      "grid_auto_flow": null,
      "grid_auto_rows": null,
      "grid_column": null,
      "grid_gap": null,
      "grid_row": null,
      "grid_template_areas": null,
      "grid_template_columns": null,
      "grid_template_rows": null,
      "height": null,
      "justify_content": null,
      "justify_items": null,
      "left": null,
      "margin": null,
      "max_height": null,
      "max_width": null,
      "min_height": null,
      "min_width": null,
      "object_fit": null,
      "object_position": null,
      "order": null,
      "overflow": null,
      "overflow_x": null,
      "overflow_y": null,
      "padding": null,
      "right": null,
      "top": null,
      "visibility": null,
      "width": null
     }
    },
    "3a528f8ebd2947c8a261f672108bb28b": {
     "model_module": "@jupyter-widgets/base",
     "model_module_version": "1.2.0",
     "model_name": "LayoutModel",
     "state": {
      "_model_module": "@jupyter-widgets/base",
      "_model_module_version": "1.2.0",
      "_model_name": "LayoutModel",
      "_view_count": null,
      "_view_module": "@jupyter-widgets/base",
      "_view_module_version": "1.2.0",
      "_view_name": "LayoutView",
      "align_content": null,
      "align_items": null,
      "align_self": null,
      "border": null,
      "bottom": null,
      "display": null,
      "flex": null,
      "flex_flow": null,
      "grid_area": null,
      "grid_auto_columns": null,
      "grid_auto_flow": null,
      "grid_auto_rows": null,
      "grid_column": null,
      "grid_gap": null,
      "grid_row": null,
      "grid_template_areas": null,
      "grid_template_columns": null,
      "grid_template_rows": null,
      "height": null,
      "justify_content": null,
      "justify_items": null,
      "left": null,
      "margin": null,
      "max_height": null,
      "max_width": null,
      "min_height": null,
      "min_width": null,
      "object_fit": null,
      "object_position": null,
      "order": null,
      "overflow": null,
      "overflow_x": null,
      "overflow_y": null,
      "padding": null,
      "right": null,
      "top": null,
      "visibility": null,
      "width": "20px"
     }
    },
    "3cf6551635fc4a399f84c58bb1bbebe5": {
     "model_module": "@jupyter-widgets/base",
     "model_module_version": "1.2.0",
     "model_name": "LayoutModel",
     "state": {
      "_model_module": "@jupyter-widgets/base",
      "_model_module_version": "1.2.0",
      "_model_name": "LayoutModel",
      "_view_count": null,
      "_view_module": "@jupyter-widgets/base",
      "_view_module_version": "1.2.0",
      "_view_name": "LayoutView",
      "align_content": null,
      "align_items": null,
      "align_self": null,
      "border": null,
      "bottom": null,
      "display": null,
      "flex": null,
      "flex_flow": null,
      "grid_area": null,
      "grid_auto_columns": null,
      "grid_auto_flow": null,
      "grid_auto_rows": null,
      "grid_column": null,
      "grid_gap": null,
      "grid_row": null,
      "grid_template_areas": null,
      "grid_template_columns": null,
      "grid_template_rows": null,
      "height": null,
      "justify_content": null,
      "justify_items": null,
      "left": null,
      "margin": null,
      "max_height": null,
      "max_width": null,
      "min_height": null,
      "min_width": null,
      "object_fit": null,
      "object_position": null,
      "order": null,
      "overflow": null,
      "overflow_x": null,
      "overflow_y": null,
      "padding": null,
      "right": null,
      "top": null,
      "visibility": null,
      "width": null
     }
    },
    "3e9f9a728a874dc68f374463bc0e7383": {
     "model_module": "@jupyter-widgets/controls",
     "model_module_version": "1.5.0",
     "model_name": "HTMLModel",
     "state": {
      "_dom_classes": [],
      "_model_module": "@jupyter-widgets/controls",
      "_model_module_version": "1.5.0",
      "_model_name": "HTMLModel",
      "_view_count": null,
      "_view_module": "@jupyter-widgets/controls",
      "_view_module_version": "1.5.0",
      "_view_name": "HTMLView",
      "description": "",
      "description_tooltip": null,
      "layout": "IPY_MODEL_fb0398736e414b408e984ea93b540fc9",
      "placeholder": "​",
      "style": "IPY_MODEL_9f160601788a486d88d8a33bb08da3e2",
      "value": "Dl Size...: 100%"
     }
    },
    "403222c67a094bb6a293a211954667ae": {
     "model_module": "@jupyter-widgets/base",
     "model_module_version": "1.2.0",
     "model_name": "LayoutModel",
     "state": {
      "_model_module": "@jupyter-widgets/base",
      "_model_module_version": "1.2.0",
      "_model_name": "LayoutModel",
      "_view_count": null,
      "_view_module": "@jupyter-widgets/base",
      "_view_module_version": "1.2.0",
      "_view_name": "LayoutView",
      "align_content": null,
      "align_items": null,
      "align_self": null,
      "border": null,
      "bottom": null,
      "display": null,
      "flex": null,
      "flex_flow": null,
      "grid_area": null,
      "grid_auto_columns": null,
      "grid_auto_flow": null,
      "grid_auto_rows": null,
      "grid_column": null,
      "grid_gap": null,
      "grid_row": null,
      "grid_template_areas": null,
      "grid_template_columns": null,
      "grid_template_rows": null,
      "height": null,
      "justify_content": null,
      "justify_items": null,
      "left": null,
      "margin": null,
      "max_height": null,
      "max_width": null,
      "min_height": null,
      "min_width": null,
      "object_fit": null,
      "object_position": null,
      "order": null,
      "overflow": null,
      "overflow_x": null,
      "overflow_y": null,
      "padding": null,
      "right": null,
      "top": null,
      "visibility": null,
      "width": null
     }
    },
    "485885ff799e4c11945fed560f1701b0": {
     "model_module": "@jupyter-widgets/base",
     "model_module_version": "1.2.0",
     "model_name": "LayoutModel",
     "state": {
      "_model_module": "@jupyter-widgets/base",
      "_model_module_version": "1.2.0",
      "_model_name": "LayoutModel",
      "_view_count": null,
      "_view_module": "@jupyter-widgets/base",
      "_view_module_version": "1.2.0",
      "_view_name": "LayoutView",
      "align_content": null,
      "align_items": null,
      "align_self": null,
      "border": null,
      "bottom": null,
      "display": null,
      "flex": null,
      "flex_flow": null,
      "grid_area": null,
      "grid_auto_columns": null,
      "grid_auto_flow": null,
      "grid_auto_rows": null,
      "grid_column": null,
      "grid_gap": null,
      "grid_row": null,
      "grid_template_areas": null,
      "grid_template_columns": null,
      "grid_template_rows": null,
      "height": null,
      "justify_content": null,
      "justify_items": null,
      "left": null,
      "margin": null,
      "max_height": null,
      "max_width": null,
      "min_height": null,
      "min_width": null,
      "object_fit": null,
      "object_position": null,
      "order": null,
      "overflow": null,
      "overflow_x": null,
      "overflow_y": null,
      "padding": null,
      "right": null,
      "top": null,
      "visibility": null,
      "width": null
     }
    },
    "48e3cd191ce84b4f90530b6d0e26d6b8": {
     "model_module": "@jupyter-widgets/controls",
     "model_module_version": "1.5.0",
     "model_name": "FloatProgressModel",
     "state": {
      "_dom_classes": [],
      "_model_module": "@jupyter-widgets/controls",
      "_model_module_version": "1.5.0",
      "_model_name": "FloatProgressModel",
      "_view_count": null,
      "_view_module": "@jupyter-widgets/controls",
      "_view_module_version": "1.5.0",
      "_view_name": "ProgressView",
      "bar_style": "success",
      "description": "",
      "description_tooltip": null,
      "layout": "IPY_MODEL_784ce89d99394712b040c60095d74317",
      "max": 1,
      "min": 0,
      "orientation": "horizontal",
      "style": "IPY_MODEL_22264896b8d84c9c9951add92d915ad9",
      "value": 1
     }
    },
    "4f1f44bdce4741ba90f0c68a1389afe8": {
     "model_module": "@jupyter-widgets/base",
     "model_module_version": "1.2.0",
     "model_name": "LayoutModel",
     "state": {
      "_model_module": "@jupyter-widgets/base",
      "_model_module_version": "1.2.0",
      "_model_name": "LayoutModel",
      "_view_count": null,
      "_view_module": "@jupyter-widgets/base",
      "_view_module_version": "1.2.0",
      "_view_name": "LayoutView",
      "align_content": null,
      "align_items": null,
      "align_self": null,
      "border": null,
      "bottom": null,
      "display": null,
      "flex": null,
      "flex_flow": null,
      "grid_area": null,
      "grid_auto_columns": null,
      "grid_auto_flow": null,
      "grid_auto_rows": null,
      "grid_column": null,
      "grid_gap": null,
      "grid_row": null,
      "grid_template_areas": null,
      "grid_template_columns": null,
      "grid_template_rows": null,
      "height": null,
      "justify_content": null,
      "justify_items": null,
      "left": null,
      "margin": null,
      "max_height": null,
      "max_width": null,
      "min_height": null,
      "min_width": null,
      "object_fit": null,
      "object_position": null,
      "order": null,
      "overflow": null,
      "overflow_x": null,
      "overflow_y": null,
      "padding": null,
      "right": null,
      "top": null,
      "visibility": null,
      "width": null
     }
    },
    "51ba8452b8184247bd88ff8cb927374f": {
     "model_module": "@jupyter-widgets/controls",
     "model_module_version": "1.5.0",
     "model_name": "DescriptionStyleModel",
     "state": {
      "_model_module": "@jupyter-widgets/controls",
      "_model_module_version": "1.5.0",
      "_model_name": "DescriptionStyleModel",
      "_view_count": null,
      "_view_module": "@jupyter-widgets/base",
      "_view_module_version": "1.2.0",
      "_view_name": "StyleView",
      "description_width": ""
     }
    },
    "57c67da84b24485e9f594c714fa3442f": {
     "model_module": "@jupyter-widgets/controls",
     "model_module_version": "1.5.0",
     "model_name": "DescriptionStyleModel",
     "state": {
      "_model_module": "@jupyter-widgets/controls",
      "_model_module_version": "1.5.0",
      "_model_name": "DescriptionStyleModel",
      "_view_count": null,
      "_view_module": "@jupyter-widgets/base",
      "_view_module_version": "1.2.0",
      "_view_name": "StyleView",
      "description_width": ""
     }
    },
    "5b37b7c7c521430fbe2be28bcd3d1ae1": {
     "model_module": "@jupyter-widgets/controls",
     "model_module_version": "1.5.0",
     "model_name": "DescriptionStyleModel",
     "state": {
      "_model_module": "@jupyter-widgets/controls",
      "_model_module_version": "1.5.0",
      "_model_name": "DescriptionStyleModel",
      "_view_count": null,
      "_view_module": "@jupyter-widgets/base",
      "_view_module_version": "1.2.0",
      "_view_name": "StyleView",
      "description_width": ""
     }
    },
    "5f0a4ff902bc4d8685ccb14380f488e0": {
     "model_module": "@jupyter-widgets/controls",
     "model_module_version": "1.5.0",
     "model_name": "DescriptionStyleModel",
     "state": {
      "_model_module": "@jupyter-widgets/controls",
      "_model_module_version": "1.5.0",
      "_model_name": "DescriptionStyleModel",
      "_view_count": null,
      "_view_module": "@jupyter-widgets/base",
      "_view_module_version": "1.2.0",
      "_view_name": "StyleView",
      "description_width": ""
     }
    },
    "6274a2ff8fd54ebf92041f226996fc93": {
     "model_module": "@jupyter-widgets/controls",
     "model_module_version": "1.5.0",
     "model_name": "DescriptionStyleModel",
     "state": {
      "_model_module": "@jupyter-widgets/controls",
      "_model_module_version": "1.5.0",
      "_model_name": "DescriptionStyleModel",
      "_view_count": null,
      "_view_module": "@jupyter-widgets/base",
      "_view_module_version": "1.2.0",
      "_view_name": "StyleView",
      "description_width": ""
     }
    },
    "66b6749165e44b668c4f3d0768eef576": {
     "model_module": "@jupyter-widgets/controls",
     "model_module_version": "1.5.0",
     "model_name": "DescriptionStyleModel",
     "state": {
      "_model_module": "@jupyter-widgets/controls",
      "_model_module_version": "1.5.0",
      "_model_name": "DescriptionStyleModel",
      "_view_count": null,
      "_view_module": "@jupyter-widgets/base",
      "_view_module_version": "1.2.0",
      "_view_name": "StyleView",
      "description_width": ""
     }
    },
    "66f08f71eac0463b93240828b246f27d": {
     "model_module": "@jupyter-widgets/controls",
     "model_module_version": "1.5.0",
     "model_name": "HTMLModel",
     "state": {
      "_dom_classes": [],
      "_model_module": "@jupyter-widgets/controls",
      "_model_module_version": "1.5.0",
      "_model_name": "HTMLModel",
      "_view_count": null,
      "_view_module": "@jupyter-widgets/controls",
      "_view_module_version": "1.5.0",
      "_view_name": "HTMLView",
      "description": "",
      "description_tooltip": null,
      "layout": "IPY_MODEL_1701345915df4c8ba037519b885a20fa",
      "placeholder": "​",
      "style": "IPY_MODEL_6a82033738eb4382ba2138e9d225f6ae",
      "value": " 0/8580 [00:00&lt;?, ? examples/s]"
     }
    },
    "688624a699b4440fb198e638897e12af": {
     "model_module": "@jupyter-widgets/base",
     "model_module_version": "1.2.0",
     "model_name": "LayoutModel",
     "state": {
      "_model_module": "@jupyter-widgets/base",
      "_model_module_version": "1.2.0",
      "_model_name": "LayoutModel",
      "_view_count": null,
      "_view_module": "@jupyter-widgets/base",
      "_view_module_version": "1.2.0",
      "_view_name": "LayoutView",
      "align_content": null,
      "align_items": null,
      "align_self": null,
      "border": null,
      "bottom": null,
      "display": null,
      "flex": null,
      "flex_flow": null,
      "grid_area": null,
      "grid_auto_columns": null,
      "grid_auto_flow": null,
      "grid_auto_rows": null,
      "grid_column": null,
      "grid_gap": null,
      "grid_row": null,
      "grid_template_areas": null,
      "grid_template_columns": null,
      "grid_template_rows": null,
      "height": null,
      "justify_content": null,
      "justify_items": null,
      "left": null,
      "margin": null,
      "max_height": null,
      "max_width": null,
      "min_height": null,
      "min_width": null,
      "object_fit": null,
      "object_position": null,
      "order": null,
      "overflow": null,
      "overflow_x": null,
      "overflow_y": null,
      "padding": null,
      "right": null,
      "top": null,
      "visibility": null,
      "width": null
     }
    },
    "6a2a64876e094e48b0af1fafb6f8ffce": {
     "model_module": "@jupyter-widgets/controls",
     "model_module_version": "1.5.0",
     "model_name": "FloatProgressModel",
     "state": {
      "_dom_classes": [],
      "_model_module": "@jupyter-widgets/controls",
      "_model_module_version": "1.5.0",
      "_model_name": "FloatProgressModel",
      "_view_count": null,
      "_view_module": "@jupyter-widgets/controls",
      "_view_module_version": "1.5.0",
      "_view_name": "ProgressView",
      "bar_style": "",
      "description": "",
      "description_tooltip": null,
      "layout": "IPY_MODEL_02181a44af8847fb8835fe3d63f2f90c",
      "max": 8580,
      "min": 0,
      "orientation": "horizontal",
      "style": "IPY_MODEL_6c2673119f4448ca925a97758abe4baa",
      "value": 8580
     }
    },
    "6a82033738eb4382ba2138e9d225f6ae": {
     "model_module": "@jupyter-widgets/controls",
     "model_module_version": "1.5.0",
     "model_name": "DescriptionStyleModel",
     "state": {
      "_model_module": "@jupyter-widgets/controls",
      "_model_module_version": "1.5.0",
      "_model_name": "DescriptionStyleModel",
      "_view_count": null,
      "_view_module": "@jupyter-widgets/base",
      "_view_module_version": "1.2.0",
      "_view_name": "StyleView",
      "description_width": ""
     }
    },
    "6b5c25db31fe4f23a3e53e94a5718e2f": {
     "model_module": "@jupyter-widgets/controls",
     "model_module_version": "1.5.0",
     "model_name": "ProgressStyleModel",
     "state": {
      "_model_module": "@jupyter-widgets/controls",
      "_model_module_version": "1.5.0",
      "_model_name": "ProgressStyleModel",
      "_view_count": null,
      "_view_module": "@jupyter-widgets/base",
      "_view_module_version": "1.2.0",
      "_view_name": "StyleView",
      "bar_color": null,
      "description_width": ""
     }
    },
    "6c2673119f4448ca925a97758abe4baa": {
     "model_module": "@jupyter-widgets/controls",
     "model_module_version": "1.5.0",
     "model_name": "ProgressStyleModel",
     "state": {
      "_model_module": "@jupyter-widgets/controls",
      "_model_module_version": "1.5.0",
      "_model_name": "ProgressStyleModel",
      "_view_count": null,
      "_view_module": "@jupyter-widgets/base",
      "_view_module_version": "1.2.0",
      "_view_name": "StyleView",
      "bar_color": null,
      "description_width": ""
     }
    },
    "6c3e291c6aad4a41a9ea2b2935ac2d85": {
     "model_module": "@jupyter-widgets/base",
     "model_module_version": "1.2.0",
     "model_name": "LayoutModel",
     "state": {
      "_model_module": "@jupyter-widgets/base",
      "_model_module_version": "1.2.0",
      "_model_name": "LayoutModel",
      "_view_count": null,
      "_view_module": "@jupyter-widgets/base",
      "_view_module_version": "1.2.0",
      "_view_name": "LayoutView",
      "align_content": null,
      "align_items": null,
      "align_self": null,
      "border": null,
      "bottom": null,
      "display": null,
      "flex": null,
      "flex_flow": null,
      "grid_area": null,
      "grid_auto_columns": null,
      "grid_auto_flow": null,
      "grid_auto_rows": null,
      "grid_column": null,
      "grid_gap": null,
      "grid_row": null,
      "grid_template_areas": null,
      "grid_template_columns": null,
      "grid_template_rows": null,
      "height": null,
      "justify_content": null,
      "justify_items": null,
      "left": null,
      "margin": null,
      "max_height": null,
      "max_width": null,
      "min_height": null,
      "min_width": null,
      "object_fit": null,
      "object_position": null,
      "order": null,
      "overflow": null,
      "overflow_x": null,
      "overflow_y": null,
      "padding": null,
      "right": null,
      "top": null,
      "visibility": null,
      "width": null
     }
    },
    "6e29de7f0e094c5ba61179ae77e0c532": {
     "model_module": "@jupyter-widgets/controls",
     "model_module_version": "1.5.0",
     "model_name": "FloatProgressModel",
     "state": {
      "_dom_classes": [],
      "_model_module": "@jupyter-widgets/controls",
      "_model_module_version": "1.5.0",
      "_model_name": "FloatProgressModel",
      "_view_count": null,
      "_view_module": "@jupyter-widgets/controls",
      "_view_module_version": "1.5.0",
      "_view_name": "ProgressView",
      "bar_style": "",
      "description": "",
      "description_tooltip": null,
      "layout": "IPY_MODEL_8c19084e1e6c4b439e102df1ad3e00d8",
      "max": 12000,
      "min": 0,
      "orientation": "horizontal",
      "style": "IPY_MODEL_6b5c25db31fe4f23a3e53e94a5718e2f",
      "value": 12000
     }
    },
    "6fb4646803b6492bb59c6588c37c45ad": {
     "model_module": "@jupyter-widgets/base",
     "model_module_version": "1.2.0",
     "model_name": "LayoutModel",
     "state": {
      "_model_module": "@jupyter-widgets/base",
      "_model_module_version": "1.2.0",
      "_model_name": "LayoutModel",
      "_view_count": null,
      "_view_module": "@jupyter-widgets/base",
      "_view_module_version": "1.2.0",
      "_view_name": "LayoutView",
      "align_content": null,
      "align_items": null,
      "align_self": null,
      "border": null,
      "bottom": null,
      "display": null,
      "flex": null,
      "flex_flow": null,
      "grid_area": null,
      "grid_auto_columns": null,
      "grid_auto_flow": null,
      "grid_auto_rows": null,
      "grid_column": null,
      "grid_gap": null,
      "grid_row": null,
      "grid_template_areas": null,
      "grid_template_columns": null,
      "grid_template_rows": null,
      "height": null,
      "justify_content": null,
      "justify_items": null,
      "left": null,
      "margin": null,
      "max_height": null,
      "max_width": null,
      "min_height": null,
      "min_width": null,
      "object_fit": null,
      "object_position": null,
      "order": null,
      "overflow": null,
      "overflow_x": null,
      "overflow_y": null,
      "padding": null,
      "right": null,
      "top": null,
      "visibility": null,
      "width": null
     }
    },
    "7123446ec65246e0ab67aa10454f5af0": {
     "model_module": "@jupyter-widgets/controls",
     "model_module_version": "1.5.0",
     "model_name": "DescriptionStyleModel",
     "state": {
      "_model_module": "@jupyter-widgets/controls",
      "_model_module_version": "1.5.0",
      "_model_name": "DescriptionStyleModel",
      "_view_count": null,
      "_view_module": "@jupyter-widgets/base",
      "_view_module_version": "1.2.0",
      "_view_name": "StyleView",
      "description_width": ""
     }
    },
    "7555a1d3289446838426f6bc63b2ec4c": {
     "model_module": "@jupyter-widgets/controls",
     "model_module_version": "1.5.0",
     "model_name": "DescriptionStyleModel",
     "state": {
      "_model_module": "@jupyter-widgets/controls",
      "_model_module_version": "1.5.0",
      "_model_name": "DescriptionStyleModel",
      "_view_count": null,
      "_view_module": "@jupyter-widgets/base",
      "_view_module_version": "1.2.0",
      "_view_name": "StyleView",
      "description_width": ""
     }
    },
    "784ce89d99394712b040c60095d74317": {
     "model_module": "@jupyter-widgets/base",
     "model_module_version": "1.2.0",
     "model_name": "LayoutModel",
     "state": {
      "_model_module": "@jupyter-widgets/base",
      "_model_module_version": "1.2.0",
      "_model_name": "LayoutModel",
      "_view_count": null,
      "_view_module": "@jupyter-widgets/base",
      "_view_module_version": "1.2.0",
      "_view_name": "LayoutView",
      "align_content": null,
      "align_items": null,
      "align_self": null,
      "border": null,
      "bottom": null,
      "display": null,
      "flex": null,
      "flex_flow": null,
      "grid_area": null,
      "grid_auto_columns": null,
      "grid_auto_flow": null,
      "grid_auto_rows": null,
      "grid_column": null,
      "grid_gap": null,
      "grid_row": null,
      "grid_template_areas": null,
      "grid_template_columns": null,
      "grid_template_rows": null,
      "height": null,
      "justify_content": null,
      "justify_items": null,
      "left": null,
      "margin": null,
      "max_height": null,
      "max_width": null,
      "min_height": null,
      "min_width": null,
      "object_fit": null,
      "object_position": null,
      "order": null,
      "overflow": null,
      "overflow_x": null,
      "overflow_y": null,
      "padding": null,
      "right": null,
      "top": null,
      "visibility": null,
      "width": "20px"
     }
    },
    "8117d96d8ada4ca4a4fd10e30dc4ea9e": {
     "model_module": "@jupyter-widgets/controls",
     "model_module_version": "1.5.0",
     "model_name": "HBoxModel",
     "state": {
      "_dom_classes": [],
      "_model_module": "@jupyter-widgets/controls",
      "_model_module_version": "1.5.0",
      "_model_name": "HBoxModel",
      "_view_count": null,
      "_view_module": "@jupyter-widgets/controls",
      "_view_module_version": "1.5.0",
      "_view_name": "HBoxView",
      "box_style": "",
      "children": [
       "IPY_MODEL_9e49291a98da4e1999f61b769d78cc57",
       "IPY_MODEL_b7492189e95e418d84d4ff464ddcd327",
       "IPY_MODEL_09d6d04c643043ff841f9d6c63ce1730"
      ],
      "layout": "IPY_MODEL_d6814f7ce9ca49b68640cf518c0100cd"
     }
    },
    "8c19084e1e6c4b439e102df1ad3e00d8": {
     "model_module": "@jupyter-widgets/base",
     "model_module_version": "1.2.0",
     "model_name": "LayoutModel",
     "state": {
      "_model_module": "@jupyter-widgets/base",
      "_model_module_version": "1.2.0",
      "_model_name": "LayoutModel",
      "_view_count": null,
      "_view_module": "@jupyter-widgets/base",
      "_view_module_version": "1.2.0",
      "_view_name": "LayoutView",
      "align_content": null,
      "align_items": null,
      "align_self": null,
      "border": null,
      "bottom": null,
      "display": null,
      "flex": null,
      "flex_flow": null,
      "grid_area": null,
      "grid_auto_columns": null,
      "grid_auto_flow": null,
      "grid_auto_rows": null,
      "grid_column": null,
      "grid_gap": null,
      "grid_row": null,
      "grid_template_areas": null,
      "grid_template_columns": null,
      "grid_template_rows": null,
      "height": null,
      "justify_content": null,
      "justify_items": null,
      "left": null,
      "margin": null,
      "max_height": null,
      "max_width": null,
      "min_height": null,
      "min_width": null,
      "object_fit": null,
      "object_position": null,
      "order": null,
      "overflow": null,
      "overflow_x": null,
      "overflow_y": null,
      "padding": null,
      "right": null,
      "top": null,
      "visibility": null,
      "width": null
     }
    },
    "8e0da173b82743c9b0ade2712ba683ea": {
     "model_module": "@jupyter-widgets/base",
     "model_module_version": "1.2.0",
     "model_name": "LayoutModel",
     "state": {
      "_model_module": "@jupyter-widgets/base",
      "_model_module_version": "1.2.0",
      "_model_name": "LayoutModel",
      "_view_count": null,
      "_view_module": "@jupyter-widgets/base",
      "_view_module_version": "1.2.0",
      "_view_name": "LayoutView",
      "align_content": null,
      "align_items": null,
      "align_self": null,
      "border": null,
      "bottom": null,
      "display": null,
      "flex": null,
      "flex_flow": null,
      "grid_area": null,
      "grid_auto_columns": null,
      "grid_auto_flow": null,
      "grid_auto_rows": null,
      "grid_column": null,
      "grid_gap": null,
      "grid_row": null,
      "grid_template_areas": null,
      "grid_template_columns": null,
      "grid_template_rows": null,
      "height": null,
      "justify_content": null,
      "justify_items": null,
      "left": null,
      "margin": null,
      "max_height": null,
      "max_width": null,
      "min_height": null,
      "min_width": null,
      "object_fit": null,
      "object_position": null,
      "order": null,
      "overflow": null,
      "overflow_x": null,
      "overflow_y": null,
      "padding": null,
      "right": null,
      "top": null,
      "visibility": null,
      "width": null
     }
    },
    "91db969861874c8f9a944c933576f982": {
     "model_module": "@jupyter-widgets/controls",
     "model_module_version": "1.5.0",
     "model_name": "HBoxModel",
     "state": {
      "_dom_classes": [],
      "_model_module": "@jupyter-widgets/controls",
      "_model_module_version": "1.5.0",
      "_model_name": "HBoxModel",
      "_view_count": null,
      "_view_module": "@jupyter-widgets/controls",
      "_view_module_version": "1.5.0",
      "_view_name": "HBoxView",
      "box_style": "",
      "children": [
       "IPY_MODEL_18dafe2b331f4a1c964684ff0374bb4b",
       "IPY_MODEL_d0be013256024eed960475121d84c01d",
       "IPY_MODEL_cc582fafa2744732b73cbe0aa0c8f057"
      ],
      "layout": "IPY_MODEL_ee3c89ecabb54e10816d29e5fbbb66a8"
     }
    },
    "98f13ef1f8f94d0e802a49888f324ebb": {
     "model_module": "@jupyter-widgets/controls",
     "model_module_version": "1.5.0",
     "model_name": "DescriptionStyleModel",
     "state": {
      "_model_module": "@jupyter-widgets/controls",
      "_model_module_version": "1.5.0",
      "_model_name": "DescriptionStyleModel",
      "_view_count": null,
      "_view_module": "@jupyter-widgets/base",
      "_view_module_version": "1.2.0",
      "_view_name": "StyleView",
      "description_width": ""
     }
    },
    "992a2120204247c2a5bec20facfe37d8": {
     "model_module": "@jupyter-widgets/controls",
     "model_module_version": "1.5.0",
     "model_name": "FloatProgressModel",
     "state": {
      "_dom_classes": [],
      "_model_module": "@jupyter-widgets/controls",
      "_model_module_version": "1.5.0",
      "_model_name": "FloatProgressModel",
      "_view_count": null,
      "_view_module": "@jupyter-widgets/controls",
      "_view_module_version": "1.5.0",
      "_view_name": "ProgressView",
      "bar_style": "",
      "description": "",
      "description_tooltip": null,
      "layout": "IPY_MODEL_6c3e291c6aad4a41a9ea2b2935ac2d85",
      "max": 2,
      "min": 0,
      "orientation": "horizontal",
      "style": "IPY_MODEL_fee534f2e4e14fc99e9ebd6a090397da",
      "value": 2
     }
    },
    "9939268b17a5463aa780f3bf998c46b0": {
     "model_module": "@jupyter-widgets/base",
     "model_module_version": "1.2.0",
     "model_name": "LayoutModel",
     "state": {
      "_model_module": "@jupyter-widgets/base",
      "_model_module_version": "1.2.0",
      "_model_name": "LayoutModel",
      "_view_count": null,
      "_view_module": "@jupyter-widgets/base",
      "_view_module_version": "1.2.0",
      "_view_name": "LayoutView",
      "align_content": null,
      "align_items": null,
      "align_self": null,
      "border": null,
      "bottom": null,
      "display": null,
      "flex": null,
      "flex_flow": null,
      "grid_area": null,
      "grid_auto_columns": null,
      "grid_auto_flow": null,
      "grid_auto_rows": null,
      "grid_column": null,
      "grid_gap": null,
      "grid_row": null,
      "grid_template_areas": null,
      "grid_template_columns": null,
      "grid_template_rows": null,
      "height": null,
      "justify_content": null,
      "justify_items": null,
      "left": null,
      "margin": null,
      "max_height": null,
      "max_width": null,
      "min_height": null,
      "min_width": null,
      "object_fit": null,
      "object_position": null,
      "order": null,
      "overflow": null,
      "overflow_x": null,
      "overflow_y": null,
      "padding": null,
      "right": null,
      "top": null,
      "visibility": null,
      "width": null
     }
    },
    "999764e252f042e98181073f58863ccb": {
     "model_module": "@jupyter-widgets/controls",
     "model_module_version": "1.5.0",
     "model_name": "DescriptionStyleModel",
     "state": {
      "_model_module": "@jupyter-widgets/controls",
      "_model_module_version": "1.5.0",
      "_model_name": "DescriptionStyleModel",
      "_view_count": null,
      "_view_module": "@jupyter-widgets/base",
      "_view_module_version": "1.2.0",
      "_view_name": "StyleView",
      "description_width": ""
     }
    },
    "9cb2cbcc1ff649a4880aaf6d844076a4": {
     "model_module": "@jupyter-widgets/controls",
     "model_module_version": "1.5.0",
     "model_name": "HTMLModel",
     "state": {
      "_dom_classes": [],
      "_model_module": "@jupyter-widgets/controls",
      "_model_module_version": "1.5.0",
      "_model_name": "HTMLModel",
      "_view_count": null,
      "_view_module": "@jupyter-widgets/controls",
      "_view_module_version": "1.5.0",
      "_view_name": "HTMLView",
      "description": "",
      "description_tooltip": null,
      "layout": "IPY_MODEL_0e30de3f16a44010a5ef6fdb35470788",
      "placeholder": "​",
      "style": "IPY_MODEL_51ba8452b8184247bd88ff8cb927374f",
      "value": "Generating train examples...:  96%"
     }
    },
    "9d05bcf883704cfda5bbae44a227aa4c": {
     "model_module": "@jupyter-widgets/controls",
     "model_module_version": "1.5.0",
     "model_name": "DescriptionStyleModel",
     "state": {
      "_model_module": "@jupyter-widgets/controls",
      "_model_module_version": "1.5.0",
      "_model_name": "DescriptionStyleModel",
      "_view_count": null,
      "_view_module": "@jupyter-widgets/base",
      "_view_module_version": "1.2.0",
      "_view_name": "StyleView",
      "description_width": ""
     }
    },
    "9d5c8dd8b45b471ab138acf645752396": {
     "model_module": "@jupyter-widgets/base",
     "model_module_version": "1.2.0",
     "model_name": "LayoutModel",
     "state": {
      "_model_module": "@jupyter-widgets/base",
      "_model_module_version": "1.2.0",
      "_model_name": "LayoutModel",
      "_view_count": null,
      "_view_module": "@jupyter-widgets/base",
      "_view_module_version": "1.2.0",
      "_view_name": "LayoutView",
      "align_content": null,
      "align_items": null,
      "align_self": null,
      "border": null,
      "bottom": null,
      "display": null,
      "flex": null,
      "flex_flow": null,
      "grid_area": null,
      "grid_auto_columns": null,
      "grid_auto_flow": null,
      "grid_auto_rows": null,
      "grid_column": null,
      "grid_gap": null,
      "grid_row": null,
      "grid_template_areas": null,
      "grid_template_columns": null,
      "grid_template_rows": null,
      "height": null,
      "justify_content": null,
      "justify_items": null,
      "left": null,
      "margin": null,
      "max_height": null,
      "max_width": null,
      "min_height": null,
      "min_width": null,
      "object_fit": null,
      "object_position": null,
      "order": null,
      "overflow": null,
      "overflow_x": null,
      "overflow_y": null,
      "padding": null,
      "right": null,
      "top": null,
      "visibility": "hidden",
      "width": null
     }
    },
    "9e49291a98da4e1999f61b769d78cc57": {
     "model_module": "@jupyter-widgets/controls",
     "model_module_version": "1.5.0",
     "model_name": "HTMLModel",
     "state": {
      "_dom_classes": [],
      "_model_module": "@jupyter-widgets/controls",
      "_model_module_version": "1.5.0",
      "_model_name": "HTMLModel",
      "_view_count": null,
      "_view_module": "@jupyter-widgets/controls",
      "_view_module_version": "1.5.0",
      "_view_name": "HTMLView",
      "description": "",
      "description_tooltip": null,
      "layout": "IPY_MODEL_0fe6d0d4492e496d890808e5e782d382",
      "placeholder": "​",
      "style": "IPY_MODEL_7555a1d3289446838426f6bc63b2ec4c",
      "value": "Dl Completed...: 100%"
     }
    },
    "9ea6b8b27e7a4c989e49a44b30b77762": {
     "model_module": "@jupyter-widgets/controls",
     "model_module_version": "1.5.0",
     "model_name": "FloatProgressModel",
     "state": {
      "_dom_classes": [],
      "_model_module": "@jupyter-widgets/controls",
      "_model_module_version": "1.5.0",
      "_model_name": "FloatProgressModel",
      "_view_count": null,
      "_view_module": "@jupyter-widgets/controls",
      "_view_module_version": "1.5.0",
      "_view_name": "ProgressView",
      "bar_style": "success",
      "description": "",
      "description_tooltip": null,
      "layout": "IPY_MODEL_282339adad3b4a7888c841b372acf819",
      "max": 1,
      "min": 0,
      "orientation": "horizontal",
      "style": "IPY_MODEL_c6bb959172f5411e8855a2449a83e3fa",
      "value": 1
     }
    },
    "9f160601788a486d88d8a33bb08da3e2": {
     "model_module": "@jupyter-widgets/controls",
     "model_module_version": "1.5.0",
     "model_name": "DescriptionStyleModel",
     "state": {
      "_model_module": "@jupyter-widgets/controls",
      "_model_module_version": "1.5.0",
      "_model_name": "DescriptionStyleModel",
      "_view_count": null,
      "_view_module": "@jupyter-widgets/base",
      "_view_module_version": "1.2.0",
      "_view_name": "StyleView",
      "description_width": ""
     }
    },
    "9fca04f08d9043e09ffc041e91f85dc3": {
     "model_module": "@jupyter-widgets/controls",
     "model_module_version": "1.5.0",
     "model_name": "FloatProgressModel",
     "state": {
      "_dom_classes": [],
      "_model_module": "@jupyter-widgets/controls",
      "_model_module_version": "1.5.0",
      "_model_name": "FloatProgressModel",
      "_view_count": null,
      "_view_module": "@jupyter-widgets/controls",
      "_view_module_version": "1.5.0",
      "_view_name": "ProgressView",
      "bar_style": "success",
      "description": "",
      "description_tooltip": null,
      "layout": "IPY_MODEL_3a528f8ebd2947c8a261f672108bb28b",
      "max": 1,
      "min": 0,
      "orientation": "horizontal",
      "style": "IPY_MODEL_e8da8ee0eaec47cca19826a2eea665f1",
      "value": 1
     }
    },
    "a0524b77729e478eaf42508f2a902eac": {
     "model_module": "@jupyter-widgets/base",
     "model_module_version": "1.2.0",
     "model_name": "LayoutModel",
     "state": {
      "_model_module": "@jupyter-widgets/base",
      "_model_module_version": "1.2.0",
      "_model_name": "LayoutModel",
      "_view_count": null,
      "_view_module": "@jupyter-widgets/base",
      "_view_module_version": "1.2.0",
      "_view_name": "LayoutView",
      "align_content": null,
      "align_items": null,
      "align_self": null,
      "border": null,
      "bottom": null,
      "display": null,
      "flex": null,
      "flex_flow": null,
      "grid_area": null,
      "grid_auto_columns": null,
      "grid_auto_flow": null,
      "grid_auto_rows": null,
      "grid_column": null,
      "grid_gap": null,
      "grid_row": null,
      "grid_template_areas": null,
      "grid_template_columns": null,
      "grid_template_rows": null,
      "height": null,
      "justify_content": null,
      "justify_items": null,
      "left": null,
      "margin": null,
      "max_height": null,
      "max_width": null,
      "min_height": null,
      "min_width": null,
      "object_fit": null,
      "object_position": null,
      "order": null,
      "overflow": null,
      "overflow_x": null,
      "overflow_y": null,
      "padding": null,
      "right": null,
      "top": null,
      "visibility": null,
      "width": null
     }
    },
    "a0fa46b46cc04cbdb172678493974acd": {
     "model_module": "@jupyter-widgets/controls",
     "model_module_version": "1.5.0",
     "model_name": "HBoxModel",
     "state": {
      "_dom_classes": [],
      "_model_module": "@jupyter-widgets/controls",
      "_model_module_version": "1.5.0",
      "_model_name": "HBoxModel",
      "_view_count": null,
      "_view_module": "@jupyter-widgets/controls",
      "_view_module_version": "1.5.0",
      "_view_name": "HBoxView",
      "box_style": "",
      "children": [
       "IPY_MODEL_ff51211a0ddb490b8a21c0568be2baaa",
       "IPY_MODEL_9fca04f08d9043e09ffc041e91f85dc3",
       "IPY_MODEL_ed817d4bdc1b465daf454ed1a65565e8"
      ],
      "layout": "IPY_MODEL_a8f498488d184e06a1c5fb0b7f46e818"
     }
    },
    "a122707c0274457ebcb4fa974779900b": {
     "model_module": "@jupyter-widgets/controls",
     "model_module_version": "1.5.0",
     "model_name": "DescriptionStyleModel",
     "state": {
      "_model_module": "@jupyter-widgets/controls",
      "_model_module_version": "1.5.0",
      "_model_name": "DescriptionStyleModel",
      "_view_count": null,
      "_view_module": "@jupyter-widgets/base",
      "_view_module_version": "1.2.0",
      "_view_name": "StyleView",
      "description_width": ""
     }
    },
    "a1b25f863086428e8a10201b02e6fb04": {
     "model_module": "@jupyter-widgets/base",
     "model_module_version": "1.2.0",
     "model_name": "LayoutModel",
     "state": {
      "_model_module": "@jupyter-widgets/base",
      "_model_module_version": "1.2.0",
      "_model_name": "LayoutModel",
      "_view_count": null,
      "_view_module": "@jupyter-widgets/base",
      "_view_module_version": "1.2.0",
      "_view_name": "LayoutView",
      "align_content": null,
      "align_items": null,
      "align_self": null,
      "border": null,
      "bottom": null,
      "display": null,
      "flex": null,
      "flex_flow": null,
      "grid_area": null,
      "grid_auto_columns": null,
      "grid_auto_flow": null,
      "grid_auto_rows": null,
      "grid_column": null,
      "grid_gap": null,
      "grid_row": null,
      "grid_template_areas": null,
      "grid_template_columns": null,
      "grid_template_rows": null,
      "height": null,
      "justify_content": null,
      "justify_items": null,
      "left": null,
      "margin": null,
      "max_height": null,
      "max_width": null,
      "min_height": null,
      "min_width": null,
      "object_fit": null,
      "object_position": null,
      "order": null,
      "overflow": null,
      "overflow_x": null,
      "overflow_y": null,
      "padding": null,
      "right": null,
      "top": null,
      "visibility": null,
      "width": null
     }
    },
    "a64b9789186f45b78ca1c2e14ce9b6ea": {
     "model_module": "@jupyter-widgets/base",
     "model_module_version": "1.2.0",
     "model_name": "LayoutModel",
     "state": {
      "_model_module": "@jupyter-widgets/base",
      "_model_module_version": "1.2.0",
      "_model_name": "LayoutModel",
      "_view_count": null,
      "_view_module": "@jupyter-widgets/base",
      "_view_module_version": "1.2.0",
      "_view_name": "LayoutView",
      "align_content": null,
      "align_items": null,
      "align_self": null,
      "border": null,
      "bottom": null,
      "display": null,
      "flex": null,
      "flex_flow": null,
      "grid_area": null,
      "grid_auto_columns": null,
      "grid_auto_flow": null,
      "grid_auto_rows": null,
      "grid_column": null,
      "grid_gap": null,
      "grid_row": null,
      "grid_template_areas": null,
      "grid_template_columns": null,
      "grid_template_rows": null,
      "height": null,
      "justify_content": null,
      "justify_items": null,
      "left": null,
      "margin": null,
      "max_height": null,
      "max_width": null,
      "min_height": null,
      "min_width": null,
      "object_fit": null,
      "object_position": null,
      "order": null,
      "overflow": null,
      "overflow_x": null,
      "overflow_y": null,
      "padding": null,
      "right": null,
      "top": null,
      "visibility": null,
      "width": null
     }
    },
    "a8f498488d184e06a1c5fb0b7f46e818": {
     "model_module": "@jupyter-widgets/base",
     "model_module_version": "1.2.0",
     "model_name": "LayoutModel",
     "state": {
      "_model_module": "@jupyter-widgets/base",
      "_model_module_version": "1.2.0",
      "_model_name": "LayoutModel",
      "_view_count": null,
      "_view_module": "@jupyter-widgets/base",
      "_view_module_version": "1.2.0",
      "_view_name": "LayoutView",
      "align_content": null,
      "align_items": null,
      "align_self": null,
      "border": null,
      "bottom": null,
      "display": null,
      "flex": null,
      "flex_flow": null,
      "grid_area": null,
      "grid_auto_columns": null,
      "grid_auto_flow": null,
      "grid_auto_rows": null,
      "grid_column": null,
      "grid_gap": null,
      "grid_row": null,
      "grid_template_areas": null,
      "grid_template_columns": null,
      "grid_template_rows": null,
      "height": null,
      "justify_content": null,
      "justify_items": null,
      "left": null,
      "margin": null,
      "max_height": null,
      "max_width": null,
      "min_height": null,
      "min_width": null,
      "object_fit": null,
      "object_position": null,
      "order": null,
      "overflow": null,
      "overflow_x": null,
      "overflow_y": null,
      "padding": null,
      "right": null,
      "top": null,
      "visibility": null,
      "width": null
     }
    },
    "addfd60afad1427fa70978f17ac6ebbb": {
     "model_module": "@jupyter-widgets/controls",
     "model_module_version": "1.5.0",
     "model_name": "ProgressStyleModel",
     "state": {
      "_model_module": "@jupyter-widgets/controls",
      "_model_module_version": "1.5.0",
      "_model_name": "ProgressStyleModel",
      "_view_count": null,
      "_view_module": "@jupyter-widgets/base",
      "_view_module_version": "1.2.0",
      "_view_name": "StyleView",
      "bar_color": null,
      "description_width": ""
     }
    },
    "b1db8fd908f74122863ce1a75f31619a": {
     "model_module": "@jupyter-widgets/base",
     "model_module_version": "1.2.0",
     "model_name": "LayoutModel",
     "state": {
      "_model_module": "@jupyter-widgets/base",
      "_model_module_version": "1.2.0",
      "_model_name": "LayoutModel",
      "_view_count": null,
      "_view_module": "@jupyter-widgets/base",
      "_view_module_version": "1.2.0",
      "_view_name": "LayoutView",
      "align_content": null,
      "align_items": null,
      "align_self": null,
      "border": null,
      "bottom": null,
      "display": null,
      "flex": null,
      "flex_flow": null,
      "grid_area": null,
      "grid_auto_columns": null,
      "grid_auto_flow": null,
      "grid_auto_rows": null,
      "grid_column": null,
      "grid_gap": null,
      "grid_row": null,
      "grid_template_areas": null,
      "grid_template_columns": null,
      "grid_template_rows": null,
      "height": null,
      "justify_content": null,
      "justify_items": null,
      "left": null,
      "margin": null,
      "max_height": null,
      "max_width": null,
      "min_height": null,
      "min_width": null,
      "object_fit": null,
      "object_position": null,
      "order": null,
      "overflow": null,
      "overflow_x": null,
      "overflow_y": null,
      "padding": null,
      "right": null,
      "top": null,
      "visibility": null,
      "width": null
     }
    },
    "b23886f538124986b677c38ad9fde3be": {
     "model_module": "@jupyter-widgets/controls",
     "model_module_version": "1.5.0",
     "model_name": "HTMLModel",
     "state": {
      "_dom_classes": [],
      "_model_module": "@jupyter-widgets/controls",
      "_model_module_version": "1.5.0",
      "_model_name": "HTMLModel",
      "_view_count": null,
      "_view_module": "@jupyter-widgets/controls",
      "_view_module_version": "1.5.0",
      "_view_name": "HTMLView",
      "description": "",
      "description_tooltip": null,
      "layout": "IPY_MODEL_4f1f44bdce4741ba90f0c68a1389afe8",
      "placeholder": "​",
      "style": "IPY_MODEL_7123446ec65246e0ab67aa10454f5af0",
      "value": " 11470/12000 [00:11&lt;00:00, 982.14 examples/s]"
     }
    },
    "b2e56516c440499c80c923803c5018ee": {
     "model_module": "@jupyter-widgets/controls",
     "model_module_version": "1.5.0",
     "model_name": "HTMLModel",
     "state": {
      "_dom_classes": [],
      "_model_module": "@jupyter-widgets/controls",
      "_model_module_version": "1.5.0",
      "_model_name": "HTMLModel",
      "_view_count": null,
      "_view_module": "@jupyter-widgets/controls",
      "_view_module_version": "1.5.0",
      "_view_name": "HTMLView",
      "description": "",
      "description_tooltip": null,
      "layout": "IPY_MODEL_c60c0bd3c8fa47d4a28aa8246c6261b9",
      "placeholder": "​",
      "style": "IPY_MODEL_2d3dfad4a0014d04abc91be70806ae37",
      "value": "Extraction completed...: 100%"
     }
    },
    "b3162a817fc54294806eebe015c44e89": {
     "model_module": "@jupyter-widgets/base",
     "model_module_version": "1.2.0",
     "model_name": "LayoutModel",
     "state": {
      "_model_module": "@jupyter-widgets/base",
      "_model_module_version": "1.2.0",
      "_model_name": "LayoutModel",
      "_view_count": null,
      "_view_module": "@jupyter-widgets/base",
      "_view_module_version": "1.2.0",
      "_view_name": "LayoutView",
      "align_content": null,
      "align_items": null,
      "align_self": null,
      "border": null,
      "bottom": null,
      "display": null,
      "flex": null,
      "flex_flow": null,
      "grid_area": null,
      "grid_auto_columns": null,
      "grid_auto_flow": null,
      "grid_auto_rows": null,
      "grid_column": null,
      "grid_gap": null,
      "grid_row": null,
      "grid_template_areas": null,
      "grid_template_columns": null,
      "grid_template_rows": null,
      "height": null,
      "justify_content": null,
      "justify_items": null,
      "left": null,
      "margin": null,
      "max_height": null,
      "max_width": null,
      "min_height": null,
      "min_width": null,
      "object_fit": null,
      "object_position": null,
      "order": null,
      "overflow": null,
      "overflow_x": null,
      "overflow_y": null,
      "padding": null,
      "right": null,
      "top": null,
      "visibility": null,
      "width": null
     }
    },
    "b367faeb3c0d4275af29d0a256e437fc": {
     "model_module": "@jupyter-widgets/base",
     "model_module_version": "1.2.0",
     "model_name": "LayoutModel",
     "state": {
      "_model_module": "@jupyter-widgets/base",
      "_model_module_version": "1.2.0",
      "_model_name": "LayoutModel",
      "_view_count": null,
      "_view_module": "@jupyter-widgets/base",
      "_view_module_version": "1.2.0",
      "_view_name": "LayoutView",
      "align_content": null,
      "align_items": null,
      "align_self": null,
      "border": null,
      "bottom": null,
      "display": null,
      "flex": null,
      "flex_flow": null,
      "grid_area": null,
      "grid_auto_columns": null,
      "grid_auto_flow": null,
      "grid_auto_rows": null,
      "grid_column": null,
      "grid_gap": null,
      "grid_row": null,
      "grid_template_areas": null,
      "grid_template_columns": null,
      "grid_template_rows": null,
      "height": null,
      "justify_content": null,
      "justify_items": null,
      "left": null,
      "margin": null,
      "max_height": null,
      "max_width": null,
      "min_height": null,
      "min_width": null,
      "object_fit": null,
      "object_position": null,
      "order": null,
      "overflow": null,
      "overflow_x": null,
      "overflow_y": null,
      "padding": null,
      "right": null,
      "top": null,
      "visibility": "hidden",
      "width": null
     }
    },
    "b539d861c1d043e1a84fe9b2ac1c9d46": {
     "model_module": "@jupyter-widgets/base",
     "model_module_version": "1.2.0",
     "model_name": "LayoutModel",
     "state": {
      "_model_module": "@jupyter-widgets/base",
      "_model_module_version": "1.2.0",
      "_model_name": "LayoutModel",
      "_view_count": null,
      "_view_module": "@jupyter-widgets/base",
      "_view_module_version": "1.2.0",
      "_view_name": "LayoutView",
      "align_content": null,
      "align_items": null,
      "align_self": null,
      "border": null,
      "bottom": null,
      "display": null,
      "flex": null,
      "flex_flow": null,
      "grid_area": null,
      "grid_auto_columns": null,
      "grid_auto_flow": null,
      "grid_auto_rows": null,
      "grid_column": null,
      "grid_gap": null,
      "grid_row": null,
      "grid_template_areas": null,
      "grid_template_columns": null,
      "grid_template_rows": null,
      "height": null,
      "justify_content": null,
      "justify_items": null,
      "left": null,
      "margin": null,
      "max_height": null,
      "max_width": null,
      "min_height": null,
      "min_width": null,
      "object_fit": null,
      "object_position": null,
      "order": null,
      "overflow": null,
      "overflow_x": null,
      "overflow_y": null,
      "padding": null,
      "right": null,
      "top": null,
      "visibility": null,
      "width": null
     }
    },
    "b7492189e95e418d84d4ff464ddcd327": {
     "model_module": "@jupyter-widgets/controls",
     "model_module_version": "1.5.0",
     "model_name": "FloatProgressModel",
     "state": {
      "_dom_classes": [],
      "_model_module": "@jupyter-widgets/controls",
      "_model_module_version": "1.5.0",
      "_model_name": "FloatProgressModel",
      "_view_count": null,
      "_view_module": "@jupyter-widgets/controls",
      "_view_module_version": "1.5.0",
      "_view_name": "ProgressView",
      "bar_style": "success",
      "description": "",
      "description_tooltip": null,
      "layout": "IPY_MODEL_e0afe9916a8d43e0be417ef711915f48",
      "max": 1,
      "min": 0,
      "orientation": "horizontal",
      "style": "IPY_MODEL_addfd60afad1427fa70978f17ac6ebbb",
      "value": 1
     }
    },
    "be31f9100e8040e1b15f0990358abcd0": {
     "model_module": "@jupyter-widgets/base",
     "model_module_version": "1.2.0",
     "model_name": "LayoutModel",
     "state": {
      "_model_module": "@jupyter-widgets/base",
      "_model_module_version": "1.2.0",
      "_model_name": "LayoutModel",
      "_view_count": null,
      "_view_module": "@jupyter-widgets/base",
      "_view_module_version": "1.2.0",
      "_view_name": "LayoutView",
      "align_content": null,
      "align_items": null,
      "align_self": null,
      "border": null,
      "bottom": null,
      "display": null,
      "flex": null,
      "flex_flow": null,
      "grid_area": null,
      "grid_auto_columns": null,
      "grid_auto_flow": null,
      "grid_auto_rows": null,
      "grid_column": null,
      "grid_gap": null,
      "grid_row": null,
      "grid_template_areas": null,
      "grid_template_columns": null,
      "grid_template_rows": null,
      "height": null,
      "justify_content": null,
      "justify_items": null,
      "left": null,
      "margin": null,
      "max_height": null,
      "max_width": null,
      "min_height": null,
      "min_width": null,
      "object_fit": null,
      "object_position": null,
      "order": null,
      "overflow": null,
      "overflow_x": null,
      "overflow_y": null,
      "padding": null,
      "right": null,
      "top": null,
      "visibility": "hidden",
      "width": null
     }
    },
    "c5dc0756ce7b454a877a78e774d27ba5": {
     "model_module": "@jupyter-widgets/controls",
     "model_module_version": "1.5.0",
     "model_name": "HTMLModel",
     "state": {
      "_dom_classes": [],
      "_model_module": "@jupyter-widgets/controls",
      "_model_module_version": "1.5.0",
      "_model_name": "HTMLModel",
      "_view_count": null,
      "_view_module": "@jupyter-widgets/controls",
      "_view_module_version": "1.5.0",
      "_view_name": "HTMLView",
      "description": "",
      "description_tooltip": null,
      "layout": "IPY_MODEL_18f39f7215bd42df929f8b2615f0e3d2",
      "placeholder": "​",
      "style": "IPY_MODEL_a122707c0274457ebcb4fa974779900b",
      "value": " 2/2 [00:21&lt;00:00, 10.74s/ splits]"
     }
    },
    "c60c0bd3c8fa47d4a28aa8246c6261b9": {
     "model_module": "@jupyter-widgets/base",
     "model_module_version": "1.2.0",
     "model_name": "LayoutModel",
     "state": {
      "_model_module": "@jupyter-widgets/base",
      "_model_module_version": "1.2.0",
      "_model_name": "LayoutModel",
      "_view_count": null,
      "_view_module": "@jupyter-widgets/base",
      "_view_module_version": "1.2.0",
      "_view_name": "LayoutView",
      "align_content": null,
      "align_items": null,
      "align_self": null,
      "border": null,
      "bottom": null,
      "display": null,
      "flex": null,
      "flex_flow": null,
      "grid_area": null,
      "grid_auto_columns": null,
      "grid_auto_flow": null,
      "grid_auto_rows": null,
      "grid_column": null,
      "grid_gap": null,
      "grid_row": null,
      "grid_template_areas": null,
      "grid_template_columns": null,
      "grid_template_rows": null,
      "height": null,
      "justify_content": null,
      "justify_items": null,
      "left": null,
      "margin": null,
      "max_height": null,
      "max_width": null,
      "min_height": null,
      "min_width": null,
      "object_fit": null,
      "object_position": null,
      "order": null,
      "overflow": null,
      "overflow_x": null,
      "overflow_y": null,
      "padding": null,
      "right": null,
      "top": null,
      "visibility": null,
      "width": null
     }
    },
    "c6bb959172f5411e8855a2449a83e3fa": {
     "model_module": "@jupyter-widgets/controls",
     "model_module_version": "1.5.0",
     "model_name": "ProgressStyleModel",
     "state": {
      "_model_module": "@jupyter-widgets/controls",
      "_model_module_version": "1.5.0",
      "_model_name": "ProgressStyleModel",
      "_view_count": null,
      "_view_module": "@jupyter-widgets/base",
      "_view_module_version": "1.2.0",
      "_view_name": "StyleView",
      "bar_color": null,
      "description_width": ""
     }
    },
    "c8cacec313a4418cbfcb084a7832ae4c": {
     "model_module": "@jupyter-widgets/controls",
     "model_module_version": "1.5.0",
     "model_name": "HTMLModel",
     "state": {
      "_dom_classes": [],
      "_model_module": "@jupyter-widgets/controls",
      "_model_module_version": "1.5.0",
      "_model_name": "HTMLModel",
      "_view_count": null,
      "_view_module": "@jupyter-widgets/controls",
      "_view_module_version": "1.5.0",
      "_view_name": "HTMLView",
      "description": "",
      "description_tooltip": null,
      "layout": "IPY_MODEL_6fb4646803b6492bb59c6588c37c45ad",
      "placeholder": "​",
      "style": "IPY_MODEL_6274a2ff8fd54ebf92041f226996fc93",
      "value": " 2/2 [00:37&lt;00:00,  4.98s/ url]"
     }
    },
    "cc582fafa2744732b73cbe0aa0c8f057": {
     "model_module": "@jupyter-widgets/controls",
     "model_module_version": "1.5.0",
     "model_name": "HTMLModel",
     "state": {
      "_dom_classes": [],
      "_model_module": "@jupyter-widgets/controls",
      "_model_module_version": "1.5.0",
      "_model_name": "HTMLModel",
      "_view_count": null,
      "_view_module": "@jupyter-widgets/controls",
      "_view_module_version": "1.5.0",
      "_view_name": "HTMLView",
      "description": "",
      "description_tooltip": null,
      "layout": "IPY_MODEL_ce3069749c7841508328530cf50b3aba",
      "placeholder": "​",
      "style": "IPY_MODEL_225c044ca41444b1b3a601c49633acab",
      "value": " 0/12000 [00:00&lt;?, ? examples/s]"
     }
    },
    "ce3069749c7841508328530cf50b3aba": {
     "model_module": "@jupyter-widgets/base",
     "model_module_version": "1.2.0",
     "model_name": "LayoutModel",
     "state": {
      "_model_module": "@jupyter-widgets/base",
      "_model_module_version": "1.2.0",
      "_model_name": "LayoutModel",
      "_view_count": null,
      "_view_module": "@jupyter-widgets/base",
      "_view_module_version": "1.2.0",
      "_view_name": "LayoutView",
      "align_content": null,
      "align_items": null,
      "align_self": null,
      "border": null,
      "bottom": null,
      "display": null,
      "flex": null,
      "flex_flow": null,
      "grid_area": null,
      "grid_auto_columns": null,
      "grid_auto_flow": null,
      "grid_auto_rows": null,
      "grid_column": null,
      "grid_gap": null,
      "grid_row": null,
      "grid_template_areas": null,
      "grid_template_columns": null,
      "grid_template_rows": null,
      "height": null,
      "justify_content": null,
      "justify_items": null,
      "left": null,
      "margin": null,
      "max_height": null,
      "max_width": null,
      "min_height": null,
      "min_width": null,
      "object_fit": null,
      "object_position": null,
      "order": null,
      "overflow": null,
      "overflow_x": null,
      "overflow_y": null,
      "padding": null,
      "right": null,
      "top": null,
      "visibility": null,
      "width": null
     }
    },
    "d0be013256024eed960475121d84c01d": {
     "model_module": "@jupyter-widgets/controls",
     "model_module_version": "1.5.0",
     "model_name": "FloatProgressModel",
     "state": {
      "_dom_classes": [],
      "_model_module": "@jupyter-widgets/controls",
      "_model_module_version": "1.5.0",
      "_model_name": "FloatProgressModel",
      "_view_count": null,
      "_view_module": "@jupyter-widgets/controls",
      "_view_module_version": "1.5.0",
      "_view_name": "ProgressView",
      "bar_style": "",
      "description": "",
      "description_tooltip": null,
      "layout": "IPY_MODEL_b539d861c1d043e1a84fe9b2ac1c9d46",
      "max": 12000,
      "min": 0,
      "orientation": "horizontal",
      "style": "IPY_MODEL_2f9185d4685048e5a17cbcf65111c041",
      "value": 12000
     }
    },
    "d2fc451a54d44bb4bc0a63c2913670b0": {
     "model_module": "@jupyter-widgets/controls",
     "model_module_version": "1.5.0",
     "model_name": "HTMLModel",
     "state": {
      "_dom_classes": [],
      "_model_module": "@jupyter-widgets/controls",
      "_model_module_version": "1.5.0",
      "_model_name": "HTMLModel",
      "_view_count": null,
      "_view_module": "@jupyter-widgets/controls",
      "_view_module_version": "1.5.0",
      "_view_name": "HTMLView",
      "description": "",
      "description_tooltip": null,
      "layout": "IPY_MODEL_688624a699b4440fb198e638897e12af",
      "placeholder": "​",
      "style": "IPY_MODEL_213e135f294347b48d81a9acfc67ca7b",
      "value": "Generating test examples...:  96%"
     }
    },
    "d6814f7ce9ca49b68640cf518c0100cd": {
     "model_module": "@jupyter-widgets/base",
     "model_module_version": "1.2.0",
     "model_name": "LayoutModel",
     "state": {
      "_model_module": "@jupyter-widgets/base",
      "_model_module_version": "1.2.0",
      "_model_name": "LayoutModel",
      "_view_count": null,
      "_view_module": "@jupyter-widgets/base",
      "_view_module_version": "1.2.0",
      "_view_name": "LayoutView",
      "align_content": null,
      "align_items": null,
      "align_self": null,
      "border": null,
      "bottom": null,
      "display": null,
      "flex": null,
      "flex_flow": null,
      "grid_area": null,
      "grid_auto_columns": null,
      "grid_auto_flow": null,
      "grid_auto_rows": null,
      "grid_column": null,
      "grid_gap": null,
      "grid_row": null,
      "grid_template_areas": null,
      "grid_template_columns": null,
      "grid_template_rows": null,
      "height": null,
      "justify_content": null,
      "justify_items": null,
      "left": null,
      "margin": null,
      "max_height": null,
      "max_width": null,
      "min_height": null,
      "min_width": null,
      "object_fit": null,
      "object_position": null,
      "order": null,
      "overflow": null,
      "overflow_x": null,
      "overflow_y": null,
      "padding": null,
      "right": null,
      "top": null,
      "visibility": null,
      "width": null
     }
    },
    "ddee4db5d17d4690b1b121389c981aa7": {
     "model_module": "@jupyter-widgets/controls",
     "model_module_version": "1.5.0",
     "model_name": "ProgressStyleModel",
     "state": {
      "_model_module": "@jupyter-widgets/controls",
      "_model_module_version": "1.5.0",
      "_model_name": "ProgressStyleModel",
      "_view_count": null,
      "_view_module": "@jupyter-widgets/base",
      "_view_module_version": "1.2.0",
      "_view_name": "StyleView",
      "bar_color": null,
      "description_width": ""
     }
    },
    "dfda60e3b8c74f50acb807535fb53a32": {
     "model_module": "@jupyter-widgets/base",
     "model_module_version": "1.2.0",
     "model_name": "LayoutModel",
     "state": {
      "_model_module": "@jupyter-widgets/base",
      "_model_module_version": "1.2.0",
      "_model_name": "LayoutModel",
      "_view_count": null,
      "_view_module": "@jupyter-widgets/base",
      "_view_module_version": "1.2.0",
      "_view_name": "LayoutView",
      "align_content": null,
      "align_items": null,
      "align_self": null,
      "border": null,
      "bottom": null,
      "display": null,
      "flex": null,
      "flex_flow": null,
      "grid_area": null,
      "grid_auto_columns": null,
      "grid_auto_flow": null,
      "grid_auto_rows": null,
      "grid_column": null,
      "grid_gap": null,
      "grid_row": null,
      "grid_template_areas": null,
      "grid_template_columns": null,
      "grid_template_rows": null,
      "height": null,
      "justify_content": null,
      "justify_items": null,
      "left": null,
      "margin": null,
      "max_height": null,
      "max_width": null,
      "min_height": null,
      "min_width": null,
      "object_fit": null,
      "object_position": null,
      "order": null,
      "overflow": null,
      "overflow_x": null,
      "overflow_y": null,
      "padding": null,
      "right": null,
      "top": null,
      "visibility": null,
      "width": null
     }
    },
    "e0afe9916a8d43e0be417ef711915f48": {
     "model_module": "@jupyter-widgets/base",
     "model_module_version": "1.2.0",
     "model_name": "LayoutModel",
     "state": {
      "_model_module": "@jupyter-widgets/base",
      "_model_module_version": "1.2.0",
      "_model_name": "LayoutModel",
      "_view_count": null,
      "_view_module": "@jupyter-widgets/base",
      "_view_module_version": "1.2.0",
      "_view_name": "LayoutView",
      "align_content": null,
      "align_items": null,
      "align_self": null,
      "border": null,
      "bottom": null,
      "display": null,
      "flex": null,
      "flex_flow": null,
      "grid_area": null,
      "grid_auto_columns": null,
      "grid_auto_flow": null,
      "grid_auto_rows": null,
      "grid_column": null,
      "grid_gap": null,
      "grid_row": null,
      "grid_template_areas": null,
      "grid_template_columns": null,
      "grid_template_rows": null,
      "height": null,
      "justify_content": null,
      "justify_items": null,
      "left": null,
      "margin": null,
      "max_height": null,
      "max_width": null,
      "min_height": null,
      "min_width": null,
      "object_fit": null,
      "object_position": null,
      "order": null,
      "overflow": null,
      "overflow_x": null,
      "overflow_y": null,
      "padding": null,
      "right": null,
      "top": null,
      "visibility": null,
      "width": "20px"
     }
    },
    "e12ec1819d764fcfb0e478294d4d6bf9": {
     "model_module": "@jupyter-widgets/base",
     "model_module_version": "1.2.0",
     "model_name": "LayoutModel",
     "state": {
      "_model_module": "@jupyter-widgets/base",
      "_model_module_version": "1.2.0",
      "_model_name": "LayoutModel",
      "_view_count": null,
      "_view_module": "@jupyter-widgets/base",
      "_view_module_version": "1.2.0",
      "_view_name": "LayoutView",
      "align_content": null,
      "align_items": null,
      "align_self": null,
      "border": null,
      "bottom": null,
      "display": null,
      "flex": null,
      "flex_flow": null,
      "grid_area": null,
      "grid_auto_columns": null,
      "grid_auto_flow": null,
      "grid_auto_rows": null,
      "grid_column": null,
      "grid_gap": null,
      "grid_row": null,
      "grid_template_areas": null,
      "grid_template_columns": null,
      "grid_template_rows": null,
      "height": null,
      "justify_content": null,
      "justify_items": null,
      "left": null,
      "margin": null,
      "max_height": null,
      "max_width": null,
      "min_height": null,
      "min_width": null,
      "object_fit": null,
      "object_position": null,
      "order": null,
      "overflow": null,
      "overflow_x": null,
      "overflow_y": null,
      "padding": null,
      "right": null,
      "top": null,
      "visibility": null,
      "width": "20px"
     }
    },
    "e40e60f414d9446abea391e84ee47299": {
     "model_module": "@jupyter-widgets/controls",
     "model_module_version": "1.5.0",
     "model_name": "HTMLModel",
     "state": {
      "_dom_classes": [],
      "_model_module": "@jupyter-widgets/controls",
      "_model_module_version": "1.5.0",
      "_model_name": "HTMLModel",
      "_view_count": null,
      "_view_module": "@jupyter-widgets/controls",
      "_view_module_version": "1.5.0",
      "_view_name": "HTMLView",
      "description": "",
      "description_tooltip": null,
      "layout": "IPY_MODEL_a64b9789186f45b78ca1c2e14ce9b6ea",
      "placeholder": "​",
      "style": "IPY_MODEL_9d05bcf883704cfda5bbae44a227aa4c",
      "value": " 20/20 [00:37&lt;00:00,  3.59 MiB/s]"
     }
    },
    "e8da8ee0eaec47cca19826a2eea665f1": {
     "model_module": "@jupyter-widgets/controls",
     "model_module_version": "1.5.0",
     "model_name": "ProgressStyleModel",
     "state": {
      "_model_module": "@jupyter-widgets/controls",
      "_model_module_version": "1.5.0",
      "_model_name": "ProgressStyleModel",
      "_view_count": null,
      "_view_module": "@jupyter-widgets/base",
      "_view_module_version": "1.2.0",
      "_view_name": "StyleView",
      "bar_color": null,
      "description_width": ""
     }
    },
    "e9707d33d4904e3eb08fe7598ac9c175": {
     "model_module": "@jupyter-widgets/controls",
     "model_module_version": "1.5.0",
     "model_name": "HBoxModel",
     "state": {
      "_dom_classes": [],
      "_model_module": "@jupyter-widgets/controls",
      "_model_module_version": "1.5.0",
      "_model_name": "HBoxModel",
      "_view_count": null,
      "_view_module": "@jupyter-widgets/controls",
      "_view_module_version": "1.5.0",
      "_view_name": "HBoxView",
      "box_style": "",
      "children": [
       "IPY_MODEL_062f847488bd4196a9d1b668c2b5dacb",
       "IPY_MODEL_992a2120204247c2a5bec20facfe37d8",
       "IPY_MODEL_c5dc0756ce7b454a877a78e774d27ba5"
      ],
      "layout": "IPY_MODEL_f6c3f93c09754329ba48ff900a6340e5"
     }
    },
    "ed817d4bdc1b465daf454ed1a65565e8": {
     "model_module": "@jupyter-widgets/controls",
     "model_module_version": "1.5.0",
     "model_name": "HTMLModel",
     "state": {
      "_dom_classes": [],
      "_model_module": "@jupyter-widgets/controls",
      "_model_module_version": "1.5.0",
      "_model_name": "HTMLModel",
      "_view_count": null,
      "_view_module": "@jupyter-widgets/controls",
      "_view_module_version": "1.5.0",
      "_view_name": "HTMLView",
      "description": "",
      "description_tooltip": null,
      "layout": "IPY_MODEL_8e0da173b82743c9b0ade2712ba683ea",
      "placeholder": "​",
      "style": "IPY_MODEL_1ab9c473d9b44c698033773e8c1f2a1e",
      "value": " 756/756 [01:55&lt;00:00,  7.75 MiB/s]"
     }
    },
    "ee3c89ecabb54e10816d29e5fbbb66a8": {
     "model_module": "@jupyter-widgets/base",
     "model_module_version": "1.2.0",
     "model_name": "LayoutModel",
     "state": {
      "_model_module": "@jupyter-widgets/base",
      "_model_module_version": "1.2.0",
      "_model_name": "LayoutModel",
      "_view_count": null,
      "_view_module": "@jupyter-widgets/base",
      "_view_module_version": "1.2.0",
      "_view_name": "LayoutView",
      "align_content": null,
      "align_items": null,
      "align_self": null,
      "border": null,
      "bottom": null,
      "display": null,
      "flex": null,
      "flex_flow": null,
      "grid_area": null,
      "grid_auto_columns": null,
      "grid_auto_flow": null,
      "grid_auto_rows": null,
      "grid_column": null,
      "grid_gap": null,
      "grid_row": null,
      "grid_template_areas": null,
      "grid_template_columns": null,
      "grid_template_rows": null,
      "height": null,
      "justify_content": null,
      "justify_items": null,
      "left": null,
      "margin": null,
      "max_height": null,
      "max_width": null,
      "min_height": null,
      "min_width": null,
      "object_fit": null,
      "object_position": null,
      "order": null,
      "overflow": null,
      "overflow_x": null,
      "overflow_y": null,
      "padding": null,
      "right": null,
      "top": null,
      "visibility": "hidden",
      "width": null
     }
    },
    "f0f78f20986a49f3a0e2a8abd81f23db": {
     "model_module": "@jupyter-widgets/controls",
     "model_module_version": "1.5.0",
     "model_name": "HBoxModel",
     "state": {
      "_dom_classes": [],
      "_model_module": "@jupyter-widgets/controls",
      "_model_module_version": "1.5.0",
      "_model_name": "HBoxModel",
      "_view_count": null,
      "_view_module": "@jupyter-widgets/controls",
      "_view_module_version": "1.5.0",
      "_view_name": "HBoxView",
      "box_style": "",
      "children": [
       "IPY_MODEL_9cb2cbcc1ff649a4880aaf6d844076a4",
       "IPY_MODEL_6e29de7f0e094c5ba61179ae77e0c532",
       "IPY_MODEL_b23886f538124986b677c38ad9fde3be"
      ],
      "layout": "IPY_MODEL_be31f9100e8040e1b15f0990358abcd0"
     }
    },
    "f1fb244595d8425b8a09ad689ce2fcce": {
     "model_module": "@jupyter-widgets/base",
     "model_module_version": "1.2.0",
     "model_name": "LayoutModel",
     "state": {
      "_model_module": "@jupyter-widgets/base",
      "_model_module_version": "1.2.0",
      "_model_name": "LayoutModel",
      "_view_count": null,
      "_view_module": "@jupyter-widgets/base",
      "_view_module_version": "1.2.0",
      "_view_name": "LayoutView",
      "align_content": null,
      "align_items": null,
      "align_self": null,
      "border": null,
      "bottom": null,
      "display": null,
      "flex": null,
      "flex_flow": null,
      "grid_area": null,
      "grid_auto_columns": null,
      "grid_auto_flow": null,
      "grid_auto_rows": null,
      "grid_column": null,
      "grid_gap": null,
      "grid_row": null,
      "grid_template_areas": null,
      "grid_template_columns": null,
      "grid_template_rows": null,
      "height": null,
      "justify_content": null,
      "justify_items": null,
      "left": null,
      "margin": null,
      "max_height": null,
      "max_width": null,
      "min_height": null,
      "min_width": null,
      "object_fit": null,
      "object_position": null,
      "order": null,
      "overflow": null,
      "overflow_x": null,
      "overflow_y": null,
      "padding": null,
      "right": null,
      "top": null,
      "visibility": null,
      "width": null
     }
    },
    "f6c3f93c09754329ba48ff900a6340e5": {
     "model_module": "@jupyter-widgets/base",
     "model_module_version": "1.2.0",
     "model_name": "LayoutModel",
     "state": {
      "_model_module": "@jupyter-widgets/base",
      "_model_module_version": "1.2.0",
      "_model_name": "LayoutModel",
      "_view_count": null,
      "_view_module": "@jupyter-widgets/base",
      "_view_module_version": "1.2.0",
      "_view_name": "LayoutView",
      "align_content": null,
      "align_items": null,
      "align_self": null,
      "border": null,
      "bottom": null,
      "display": null,
      "flex": null,
      "flex_flow": null,
      "grid_area": null,
      "grid_auto_columns": null,
      "grid_auto_flow": null,
      "grid_auto_rows": null,
      "grid_column": null,
      "grid_gap": null,
      "grid_row": null,
      "grid_template_areas": null,
      "grid_template_columns": null,
      "grid_template_rows": null,
      "height": null,
      "justify_content": null,
      "justify_items": null,
      "left": null,
      "margin": null,
      "max_height": null,
      "max_width": null,
      "min_height": null,
      "min_width": null,
      "object_fit": null,
      "object_position": null,
      "order": null,
      "overflow": null,
      "overflow_x": null,
      "overflow_y": null,
      "padding": null,
      "right": null,
      "top": null,
      "visibility": "hidden",
      "width": null
     }
    },
    "fb0398736e414b408e984ea93b540fc9": {
     "model_module": "@jupyter-widgets/base",
     "model_module_version": "1.2.0",
     "model_name": "LayoutModel",
     "state": {
      "_model_module": "@jupyter-widgets/base",
      "_model_module_version": "1.2.0",
      "_model_name": "LayoutModel",
      "_view_count": null,
      "_view_module": "@jupyter-widgets/base",
      "_view_module_version": "1.2.0",
      "_view_name": "LayoutView",
      "align_content": null,
      "align_items": null,
      "align_self": null,
      "border": null,
      "bottom": null,
      "display": null,
      "flex": null,
      "flex_flow": null,
      "grid_area": null,
      "grid_auto_columns": null,
      "grid_auto_flow": null,
      "grid_auto_rows": null,
      "grid_column": null,
      "grid_gap": null,
      "grid_row": null,
      "grid_template_areas": null,
      "grid_template_columns": null,
      "grid_template_rows": null,
      "height": null,
      "justify_content": null,
      "justify_items": null,
      "left": null,
      "margin": null,
      "max_height": null,
      "max_width": null,
      "min_height": null,
      "min_width": null,
      "object_fit": null,
      "object_position": null,
      "order": null,
      "overflow": null,
      "overflow_x": null,
      "overflow_y": null,
      "padding": null,
      "right": null,
      "top": null,
      "visibility": null,
      "width": null
     }
    },
    "fbafcb8e245240e29d69b4c12c0b522b": {
     "model_module": "@jupyter-widgets/controls",
     "model_module_version": "1.5.0",
     "model_name": "HBoxModel",
     "state": {
      "_dom_classes": [],
      "_model_module": "@jupyter-widgets/controls",
      "_model_module_version": "1.5.0",
      "_model_name": "HBoxModel",
      "_view_count": null,
      "_view_module": "@jupyter-widgets/controls",
      "_view_module_version": "1.5.0",
      "_view_name": "HBoxView",
      "box_style": "",
      "children": [
       "IPY_MODEL_b2e56516c440499c80c923803c5018ee",
       "IPY_MODEL_9ea6b8b27e7a4c989e49a44b30b77762",
       "IPY_MODEL_1e92c6e955994d19a2c29a6fb72b156c"
      ],
      "layout": "IPY_MODEL_a0524b77729e478eaf42508f2a902eac"
     }
    },
    "fe7aa50978d94c9b9cf7b32fa12bd99e": {
     "model_module": "@jupyter-widgets/base",
     "model_module_version": "1.2.0",
     "model_name": "LayoutModel",
     "state": {
      "_model_module": "@jupyter-widgets/base",
      "_model_module_version": "1.2.0",
      "_model_name": "LayoutModel",
      "_view_count": null,
      "_view_module": "@jupyter-widgets/base",
      "_view_module_version": "1.2.0",
      "_view_name": "LayoutView",
      "align_content": null,
      "align_items": null,
      "align_self": null,
      "border": null,
      "bottom": null,
      "display": null,
      "flex": null,
      "flex_flow": null,
      "grid_area": null,
      "grid_auto_columns": null,
      "grid_auto_flow": null,
      "grid_auto_rows": null,
      "grid_column": null,
      "grid_gap": null,
      "grid_row": null,
      "grid_template_areas": null,
      "grid_template_columns": null,
      "grid_template_rows": null,
      "height": null,
      "justify_content": null,
      "justify_items": null,
      "left": null,
      "margin": null,
      "max_height": null,
      "max_width": null,
      "min_height": null,
      "min_width": null,
      "object_fit": null,
      "object_position": null,
      "order": null,
      "overflow": null,
      "overflow_x": null,
      "overflow_y": null,
      "padding": null,
      "right": null,
      "top": null,
      "visibility": null,
      "width": null
     }
    },
    "febb108f5cfc4a80bd12558a8a163760": {
     "model_module": "@jupyter-widgets/controls",
     "model_module_version": "1.5.0",
     "model_name": "HBoxModel",
     "state": {
      "_dom_classes": [],
      "_model_module": "@jupyter-widgets/controls",
      "_model_module_version": "1.5.0",
      "_model_name": "HBoxModel",
      "_view_count": null,
      "_view_module": "@jupyter-widgets/controls",
      "_view_module_version": "1.5.0",
      "_view_name": "HBoxView",
      "box_style": "",
      "children": [
       "IPY_MODEL_38047e4705404c6d96cf96e1791670f6",
       "IPY_MODEL_1ba3deeeb6e145ad950782f74b3d7218",
       "IPY_MODEL_66f08f71eac0463b93240828b246f27d"
      ],
      "layout": "IPY_MODEL_9d5c8dd8b45b471ab138acf645752396"
     }
    },
    "fee534f2e4e14fc99e9ebd6a090397da": {
     "model_module": "@jupyter-widgets/controls",
     "model_module_version": "1.5.0",
     "model_name": "ProgressStyleModel",
     "state": {
      "_model_module": "@jupyter-widgets/controls",
      "_model_module_version": "1.5.0",
      "_model_name": "ProgressStyleModel",
      "_view_count": null,
      "_view_module": "@jupyter-widgets/base",
      "_view_module_version": "1.2.0",
      "_view_name": "StyleView",
      "bar_color": null,
      "description_width": ""
     }
    },
    "ff51211a0ddb490b8a21c0568be2baaa": {
     "model_module": "@jupyter-widgets/controls",
     "model_module_version": "1.5.0",
     "model_name": "HTMLModel",
     "state": {
      "_dom_classes": [],
      "_model_module": "@jupyter-widgets/controls",
      "_model_module_version": "1.5.0",
      "_model_name": "HTMLModel",
      "_view_count": null,
      "_view_module": "@jupyter-widgets/controls",
      "_view_module_version": "1.5.0",
      "_view_name": "HTMLView",
      "description": "",
      "description_tooltip": null,
      "layout": "IPY_MODEL_403222c67a094bb6a293a211954667ae",
      "placeholder": "​",
      "style": "IPY_MODEL_0efa537245eb4a6fbd610e65b60f2ae6",
      "value": "Dl Size...: 100%"
     }
    },
    "fff1f4830f534f3d8a05c6cd257234f6": {
     "model_module": "@jupyter-widgets/controls",
     "model_module_version": "1.5.0",
     "model_name": "HBoxModel",
     "state": {
      "_dom_classes": [],
      "_model_module": "@jupyter-widgets/controls",
      "_model_module_version": "1.5.0",
      "_model_name": "HBoxModel",
      "_view_count": null,
      "_view_module": "@jupyter-widgets/controls",
      "_view_module_version": "1.5.0",
      "_view_name": "HBoxView",
      "box_style": "",
      "children": [
       "IPY_MODEL_3e9f9a728a874dc68f374463bc0e7383",
       "IPY_MODEL_48e3cd191ce84b4f90530b6d0e26d6b8",
       "IPY_MODEL_e40e60f414d9446abea391e84ee47299"
      ],
      "layout": "IPY_MODEL_dfda60e3b8c74f50acb807535fb53a32"
     }
    }
   }
  }
 },
 "nbformat": 4,
 "nbformat_minor": 1
}
